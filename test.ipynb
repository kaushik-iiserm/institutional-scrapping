{
 "cells": [
  {
   "cell_type": "code",
   "execution_count": 21,
   "metadata": {},
   "outputs": [
    {
     "data": {
      "application/vnd.plotly.v1+json": {
       "config": {
        "plotlyServerURL": "https://plot.ly"
       },
       "data": [
        {
         "hoverinfo": "label+percent",
         "labels": [
          "polarization optimized multisite polarized accelerated time internally encoded diffusion ordered spectroscopy",
          "selected candidate genes like pluripotency inducing factors like sox2",
          "preserving fragile quantum correlations using dynamical decoupling sequences",
          "small gtpases like arl8 recruit downstream tethering factors",
          "support transition metals tailored toward unusual transformations relevant",
          "theoretically calculated charge density distribution using crystal14",
          "modelling excited state dynamicswe also use software packages",
          "spin polarized dft methods using vasp program",
          "enhanced biological activities involving various functional groups including halogens",
          "“ geometry \", whose automorphism group contains",
          "various infections like streptococcus infection etc ., among",
          "differential galois theory addresses linear homogeneous differential equations",
          "ab initio methods using various quantum mechanics programs",
          "solid state using various computational methods using gaussian09",
          "southeast asia around 2 million years ago",
          "organocatalyzed enantioselective transformations using chiral n",
          "two different materials exhibiting two different order parameters",
          "dimensional quantum walks using classical optical setup",
          "designed several 3d heteronuclear dosy pulse sequences",
          "current knowledge using electron microscopy based single particle techniques",
          "surface deformation phenomena using satellite geodesy",
          "molecular mechanisms underlying retina regeneration using zebrafish model",
          "group theoretic computations using mathemtical softwares",
          "perform protein modeling using fragment assembly approach",
          "fossil fuels ), abundance makes solar energy",
          "repairing damaged retina still remains elusive",
          "unknown tetravalent metal centers ). n",
          "asymmetric organocatalysis involving small molecule amines",
          "elegans intestinal infection activates transcriptional programs",
          "code breaking using fast factoring algorithms",
          "achieving efficient förster resonance energy transfer",
          "4 k ), gases like argon",
          "diffusion encoding gradients internally incorporated",
          "arabidopsis shoot apexshoot apical meristem",
          "doubly clamped gold beam fabricated",
          "classical galois theory addresses polynomial equations",
          "ordered heteronuclear nmr experiment compact",
          "certain mod p hilbert modular forms",
          "laboratory towards functionalized soft materials involve design",
          "higher plants harbor pluripotent stem cells",
          "using human induced pluripotent stem cell",
          "resolved impulsive stimulated raman spectroscopy",
          "mechanisms controlling hematopoietic progenitors cell specification",
          "current research interests include nmr quantum computing",
          "experimental technique called matrix isolation infrared",
          "observing macroscopic quantum phenomena makes nems",
          "theoretical physicist whose research interests span",
          "metabolic disorders significantly advance vascular complications",
          "modular mod p galois representations associated",
          "appropriate landslide early warning setup",
          "specific serovar causing typhoid fever",
          "tict ), aggregate induced emission",
          "interdisciplinary research group whose primary interests",
          "unnatural biologically active complex molecules synthesis",
          "also called cloud condensation nuclei ccn",
          "exploring catalytic processes involving organic transformation",
          "quantum information science hold great promise",
          "organelle called “ apicoplast ”.",
          "international collaborative foss effort called",
          "edited 3d nmr experiment incorporates",
          "controlling cell biological processes like proliferation",
          "various genetic factors like hb",
          "designing ‘ synthetic ribosome ’.",
          "interesting chemical problems involving reaction pathways",
          "various satellite imaging techniques acquired",
          "cell type called muller glia",
          "resulting expanded metabolic reaction network",
          "architecturally complex bioactive natural products",
          "comprehensive transcription factor regulatory network",
          "molecular ‘ hack codes ’",
          "high resolution structural analysis using electron",
          "using high resolution single crystal x",
          "palaeoproductivity patterns using lake sediments",
          "reduced geometries like thin films",
          "sound waves first generate oscillations",
          "altered gut microbiota giving rise",
          "remarkable phenomenon remains largely unknown",
          "immune response toward tumor antigens",
          "exact mechanism remained largely unknown",
          "also perform extensive numerical simulation",
          "art techniques including confocal microscopy",
          "algebraic groups via central simple algebras",
          "since lcfas also induce oxidative stress",
          "5d transition metal oxides arising",
          "central nervous systeman essential requirement",
          "new generation synthetic aperture radar",
          "assembly readjustments toward forming membrane",
          "potentially contribute towards sustainable chemical engineering",
          "plays multiple roles including protection",
          "high affinity plasma membrane transporter",
          "crystallize low melting natural products",
          "lcfa metabolism thus opening new areas",
          "diffusion studies using gradient nmr",
          "unusual thiol containing tripeptide",
          "four broad inter related areas",
          "four broad inter related areas",
          "molecular processes supporting virus infections",
          "broad interests monitoring earth ’",
          "synthetic peptides make interesting biomaterials",
          "usually involve complex dynamic interaction",
          "current research interests include phenomenology",
          "g ., conduct electricity );",
          "showing new quantum ground states",
          "research include labour market inequality",
          "pulsed field gradient spin echo",
          "help identify key metabolic pathways related",
          "real time across replicate populations",
          "glacial retreat caused fluvial changes",
          "striking regional variations whose history",
          "various biological traits using nasonia",
          "regulating cargo trafficking towards lysosomes",
          "especially constraining present day value",
          "mod p local langlands correspondence",
          "quantitative imaging ), flow cytometry",
          "protein interaction techniques including immunoprecipitations",
          "also apply differential galois theory",
          "proton transfer reaction mass spectrometry",
          "many chemical phenomena involving bond",
          "information transmission using microscopic systems",
          "one step using controlled ring",
          "total emission estimate ˜ 1",
          "logical stochastic resonance mitochondrial biology",
          "achieve enhanced opv performances compared",
          "developing integrated microbial electrochemical technologies",
          "routine electronic structure theory calculation",
          "transition metal complexes generally requires",
          "different human hops complex subunits",
          "extremely promising energy alternative leading",
          "long chain fatty acid metabolism",
          "ch activation chemistry total synthesis",
          "develop mechanically activated smart polymers",
          "infection mediated developmental defects using",
          "essential genomic functions like transcription",
          "generate immunotherapeutic strategies employing dcs",
          "4 billion years ago",
          "could help address growing concerns",
          "resolution magic angle spinning",
          "arabidopsis sam stem cell niche",
          "small molecule activation like reduction",
          "fast growing scientific breakthroughs",
          "early twentieth century colonial madras",
          "developing efficient proton transporting materials",
          "statistical physics like generating functions",
          "low melting small organic compounds",
          "reduce oxygen efficiently enabling",
          "phosphazene templated macrocyclic arrangement",
          "many otherwise widely transmittable diseases",
          "adic local langlands program",
          "hosts like cytoplasmic incompatibility",
          "using transient state enzyme kinetics",
          "medical physics lab medical physics",
          "novel physical properties like superconductivity",
          "state relaxation experiments match well",
          "shell electronic structures commonly occurring",
          "linear homogeneous differential equation",
          "connect multiple azobenzene moieties",
          "single particle electron microscopy measurements",
          "als ), frontotemporal dementias",
          "disaster relief reveals relief work",
          "main interest exploring interferometric sar",
          "two hundred page note",
          "twisted intramolecular charge transfer",
          "detailed immune cell signalling mechanisms",
          "also analyzing microlithic stone tools",
          "oxidative stress response players identified",
          "functional inorganic materials especially oxides",
          "theoretical calculations using ab",
          "methods towards complete structural characterization",
          "research largely revolves around",
          "form induced pluripotent stem",
          "petrological phase equilibria modelling",
          "history evolutionwe use drosophila melanogaster",
          "excited state potential energy surfaces",
          "stannylene chelate compounds stabilized",
          "research involves embryonic stem cells",
          "efficient photoinduced electron transfer",
          "vascular smooth muscle cells",
          "salmonella enterica serovar typhimurium",
          "long term high resolution records",
          "easily removable secondary products",
          "toxic base metals instead",
          "experimental nmr quantum computing focuses",
          "nmr spectroscopist whose research",
          "forster resonance energy transfer",
          "developing participatory action research tools",
          "matrix isolation infrared spectroscopy",
          "energy transfer rates via",
          "robustness enabling bacterial survival",
          "physical organic chemistry towards design",
          "two dimensional real hyperbolic space",
          "thermally activated delayed fluorescence",
          "multiply bonded terminal boron",
          "late transition metals supported",
          "excitation near plasmon resonance",
          "relax spliceosomes ’ fidelity",
          "several bacteria including important pathogens",
          "least one million years",
          "200nm wide 80nm thick",
          "charge transport largely relies",
          "narmada basin paleoanthropology project",
          "analyse experimental charge densities",
          "developing new lh systems based",
          "hypotheses using computational methods",
          "computational approaches like molecular dynamics",
          "parthasarathy quantum stochastic calculus",
          "“ replisome ”) functions",
          "bridged metal complexes using",
          "proved elusive largely due",
          "like modifiers also attach",
          "exploits inherently quantum phenomena",
          "resolved emission spectroscopy etc",
          "major diabetic vascular complications",
          "viral drug resistance related challenges",
          "dimentional frustrated quantum magnet",
          "mechanical forces play major role",
          "perform slab model calculations",
          "visible light activated photocatalysts",
          "mahan mitra among others",
          "giving weak isotropy criterion",
          "counter flow virtual impactor",
          "art instrumentation remains vital",
          "sde2 promote efficient excision",
          "signaling pathways like wnt",
          "two dominant relaxation mechanisms",
          "understand certain number theoretic conjectures",
          "catalyzing organic reactions mediated",
          "also cause various reproductive alterations",
          "compact groups acting freely",
          "develop advance medical instruments",
          "atmosphere processes study global research project",
          "lcfas suggesting missing players",
          "fission yeast schizosaccharomyces pombe",
          "budding yeast saccharomyces cerevisiae",
          "induce primary immune responses",
          "macroscopically entangled quantum states",
          "state nuclear magnetic resonance",
          "state nuclear magnetic resonance",
          "adjacent molecules takes place",
          "ray diffraction based structural analysis",
          "nuclear magnetic resonance spectroscopy",
          "quantum information include characterisation",
          "united nations development programme",
          "stem cell niche establishment",
          "infectious diseases like malaria",
          "trafficking towards late endosomes",
          "develop basic scientific understanding required",
          "using scanning probe microscopy",
          "wcmg ): atmospheric processes",
          "explore new quantum control scenarios",
          "like modifiers thereby act",
          "often called intersexual conflict",
          "heterocyclic carbenes bearing chalcogens",
          "charge transfer dynamics withini",
          "identified several uncharacterized genes",
          "small proteins harboring ubiquitin fold",
          "far include random sampling",
          "type maximally entangled states",
          "collecting particles inside clouds",
          "better intrinsic dissolution rates",
          "understanding cascading geological hazards",
          "frustrated transition metal oxides",
          "organic light emitting diodes",
          "generating different polymorphic modifications",
          "involve extensive organic synthesis",
          "sometimes even entire ecosystems",
          "ground state chemical reaction",
          "car exploits three reactions",
          "strong lewis acid character",
          "indifference towards issues related",
          "may form new lc phases",
          "reprogram adult somatic cells",
          "omic approaches including single",
          "shape controlled nanocrystalline semiconducting",
          "routine picosecond fluorescence lifetime",
          "ongoing research projects explore themes",
          "improving seasonal climate forecasts",
          "numerous discourses surrounding disasters",
          "high charge carrier mobilities",
          "catalyst system comprising cheap",
          "g ., el niño",
          "design strategies would involve",
          "mediating various physiological processes",
          "identify several potential biomarkers",
          "like dynamic force spectroscopy",
          "would confirm india ’",
          "salmonella infection mediated pathogenies",
          "5 million years ).",
          "group research work mainly deals",
          "prioritize sugar acid utilization",
          "charge density wave materials",
          "energy transfer processes mediated",
          "prepare zero valent species",
          "suitable metal oxide surface",
          "research interests lie mostly",
          "generate either immune responses",
          "impaired wound healing due",
          "piscine model zebrafish offers",
          "controlling innate immune responses",
          "cambridge university press india",
          "colonial organisms like microbes",
          "range heteronuclear correlation experiment",
          "universal quantum computing devices",
          "oh radical converts emissions",
          "gained using computer simulations",
          "used nmr metabolite fingerprinting",
          "political processes .- gender",
          "long chain fatty acids",
          "linking cell biological processes",
          "ab initio methods",
          "laboratory using optical heating",
          "subfields determining quaternion algebras",
          "particularly rainfall induced landslides",
          "orbital angular momentum states",
          "simple molecular systems exposed",
          "many program packages",
          "theoretical charge density analyses",
          "quantum chemical methods available",
          "species red queen process",
          "theoretical charge density studies",
          "algebraic cycles centre around",
          "time dependent external drives",
          "dft computed optical properties",
          "genome editing etc .,",
          "chemically valid product compounds",
          "exploiting quantum information theory",
          "algorithm using optical systems",
          "natural permeability barrier function",
          "stay one step ahead",
          "high body mass index",
          "pft molecular architectures sense",
          "direct embryonic stem cells",
          "various models using observations",
          "including new reactions predicted",
          "bacterial fatty acid biosynthesis",
          "suppress dark matter perturbations",
          "extended attractive hubbard models",
          "adopting different conformational states",
          "objects give strong invariants",
          "quantum optics includes signatures",
          "resistant pathogenic strains worldwide",
          "analytical techniques including x",
          "correlated spin relaxation experiments",
          "mesoscopic systems like nano",
          "quantifying nmr experimental data",
          "dark energy perturbations enhance",
          "high energy emission mechanisms",
          "designing new ssnmr experiments",
          "local completely positive maps",
          "understanding extracellular electron transfer",
          "higher order quantum corrections",
          "time (< 1 ps",
          "phagocytic membrane trafficking pathways",
          "synthesized novel pincer type",
          "building suitable supramolecular assemblies",
          "narmada stone tool evidence",
          "photonic quantum information processing",
          "main group ionic compounds",
          "finitely generated infinite group",
          "investigate extracellular electron transfer",
          "inspired catalytic chemical systems",
          "interdisciplinary approach research objective",
          "two broad research areas",
          "cellular stress responses integrate",
          "interactions would help us",
          "unnatural small peptides",
          "twisted )- conjugacy classes",
          "excellent electron accepting nature",
          "quantum chemical methods applicable",
          "predict ligand binding sites",
          "predict ligand protein interactions",
          "developing theoretical methods based",
          "especially real algebraic knots",
          "mitochondria integrate diverse extra",
          "mostly triggered upon interactions",
          "dependent plasticity including learning",
          "neither macroscopic like",
          "laser beam shaping set",
          "based ligand binding sites",
          "improved strongly correlated materials",
          "various idps containing low",
          "environmental scanning electron microscope",
          "activate cellular signaling events",
          "linear differential equations",
          "regulate several cellular functions",
          "interdisciplinary research group inspired",
          "different larval stage development",
          "varying switching kinetics depending",
          "broad research interest lies",
          "cultivating medicinal chemistry aspects",
          "000 different organic compounds",
          "diabetic wound healing characterized",
          "cellular stress responses affect",
          "polarization mixing period",
          "different biomolecules containing nano",
          "soft condensed matter systems",
          "liquid crystal based biosensors",
          "climate aspects including extremes",
          "involves targeting different types",
          "nitrogen form transparent matrices",
          "large scale industrial production",
          "provide valuable observational data",
          "current efforts involve understanding",
          "research interests lie primarily",
          "already know dendritic cells",
          "charge density waves",
          "relativistic quantum information theory",
          "include exploring basic questions",
          "cellular antiviral drug targets",
          "tethering complex recruited",
          "piscine animal model studies",
          "design novel therapeutic strategies",
          "mathematics including group theory",
          "two emerging human viruses",
          "use mammalian cell cultures",
          "leading interdisciplinary research area",
          "chemistry named systems chemistry",
          "process also diversifies functions",
          "writing computer programs",
          "solid oxide fuel cells",
          "resolution regional climate models",
          "gas chromatography research objective",
          "higher order chromatin states",
          "advanced genetic tools available",
          "regulation using systems approach",
          "condensed phase chemical dynamics",
          "conjugated organic small molecules",
          "certain representations naturally arise",
          "plastic multiferroic materials magnetism",
          "selected three districts",
          "heat transport using non",
          "ultrafast spectroscopic studies would",
          "cationic aluminum complexes exhibit",
          "newly formed hybrid light",
          "future earth since 2017",
          "namely ozone formation chemistrysources",
          "developing novel animal models",
          "dark energy perturbations affect",
          "induced oxidative stress",
          "unicellular body almost 3",
          "stem cell progenitors",
          "approaches include experimental evolution",
          "salmonella infection mediated obesity",
          "approaches involving biophysics",
          "driven orientational ordering transitions",
          "active matter retinal damage",
          "modify root development might",
          "gradient pulse amplitude",
          "research interests involves bio",
          "research activities strongly build",
          "emerging human pathogenic viruses",
          "two effects could leads",
          "new 3d diffusion",
          "complex open algebraic surfaces",
          "“ dynamical types",
          "cloud condensation nuclei",
          "low cost air samplers",
          "‘ value chain",
          "macromolecular machinery performing replication",
          "produce fuels using",
          "project show excellent activity",
          "mr methods making use",
          "viable biological aerosol particles",
          "targets sharing similar ligands",
          "intestinal infection brings",
          "extremophile microbes );",
          "charge carrier mobilities",
          "study systems including insects",
          "work require involving",
          "throughput quantitative genetic screen",
          "weak interaction based self",
          "covalently connected multichromophoric systems",
          "main analytical techniques used",
          "experimental quantum physics particularly",
          "involve theoretical dft",
          "‘ polaritronics ’.",
          "group theoretic methods",
          "climate change take place",
          "strong direct climate effect",
          "understand cellular stress responses",
          "using arabidopsis plants",
          "perform quantum teleportation",
          "main experimental techniques used",
          "pulsed ), electronics",
          "fast growing area",
          "open source software",
          "underlying signalling mechanisms",
          "active galactic nuclei",
          "small molecule transporter",
          "observations available makes",
          "artificially integrated using",
          "major mechanistic challenge associated",
          "south asia older",
          "others ’ projects",
          "mod p reduction",
          "high mountain asia",
          "like separated systems"
         ],
         "marker": {
          "line": {
           "color": "#000000",
           "width": 2
          }
         },
         "textinfo": "value",
         "textposition": "inside",
         "type": "pie",
         "values": [
          78.64705882352942,
          58.44086021505376,
          43.21739261947973,
          41.50376344086021,
          41.266666666666666,
          37.258620689655174,
          35.575476190476195,
          34.171441202475684,
          33.853542400674,
          33.24924585218703,
          33.03130893060083,
          32.56501831501832,
          31.893767058049296,
          31.82114828541237,
          31.797619047619047,
          30.458620689655174,
          29.612991440896057,
          29.257868809955927,
          28.875,
          28.514028775368097,
          27.758620689655174,
          27.322173803208287,
          27.219405003380665,
          26.44527227336558,
          26.121036585365854,
          25.77777777777778,
          25.247826086956522,
          25.045238095238098,
          24.944444444444446,
          24.92528735632184,
          24.70661350844278,
          24.616263440860212,
          24,
          23.5,
          23.333333333333332,
          23.022161172161173,
          22.90833333333333,
          22.791666666666668,
          22.7755061855609,
          22.746460746460745,
          22.717267306196526,
          22.61764705882353,
          22.11578947368421,
          21.990753411761187,
          21.877705627705627,
          21.68496240601504,
          21.526873496713552,
          21.215686274509807,
          21.214935064935066,
          21.166666666666664,
          21.029411764705884,
          20.979166666666668,
          20.715108790831202,
          20.566160756027514,
          20.391666666666666,
          20.347232947232946,
          20.25639097744361,
          20.25,
          20.25,
          20.232142857142858,
          20.21753774147662,
          20.110674009965905,
          19.958333333333336,
          19.940692640692642,
          19.82572777340677,
          19.780075187969924,
          19.715686274509803,
          19.530158730158732,
          19.5,
          19.49252136752137,
          19.359811165845652,
          19.290565134099616,
          19.258620689655174,
          19.22043010752688,
          19.2,
          19.166666666666664,
          19.15,
          19.125,
          19.03333333333333,
          19.008333333333333,
          18.996887379739672,
          18.98774817136886,
          18.972435897435897,
          18.7,
          18.59090909090909,
          18.44871794871795,
          18.42142857142857,
          18.416666666666664,
          18.31140350877193,
          18.25892857142857,
          18.056038647342994,
          18.02014652014652,
          18.012931034482758,
          18,
          17.997619047619047,
          17.997619047619047,
          17.929833679833678,
          17.896661193212918,
          17.883333333333333,
          17.761904761904763,
          17.684759259714404,
          17.658730158730158,
          17.5917004048583,
          17.58306010928962,
          17.576923076923077,
          17.52124183006536,
          17.500840336134452,
          17.5,
          17.477777777777778,
          17.47342599560297,
          17.435897435897434,
          17.416666666666664,
          17.377272727272725,
          17.3625,
          17.2276566105089,
          17.218589743589742,
          17.08974358974359,
          17.07142857142857,
          16.976938662005402,
          16.97528735632184,
          16.94871794871795,
          16.924999999999997,
          16.916666666666664,
          16.885964912280702,
          16.784259600049076,
          16.71923076923077,
          16.708128078817733,
          16.65853658536585,
          16.555555555555557,
          16.53583208395802,
          16.522058823529413,
          16.45862068965517,
          16.455278592375365,
          16.45,
          16.38095238095238,
          16.166666666666664,
          16.142857142857142,
          16.12531328320802,
          16.103763440860213,
          16.083333333333332,
          16.083333333333332,
          16.06425948592411,
          16.062421449518222,
          16.023498964803313,
          16,
          16,
          15.96969696969697,
          15.893939393939394,
          15.887096774193548,
          15.871001642036124,
          15.869565217391306,
          15.853725733469567,
          15.8325,
          15.813397129186603,
          15.738095238095237,
          15.666666666666666,
          15.603354978354979,
          15.5625,
          15.55,
          15.456666666666667,
          15.444444444444445,
          15.423076923076923,
          15.41578947368421,
          15.403571428571428,
          15.389102564102563,
          15.22829457364341,
          15.214503042596348,
          15.20405982905983,
          15.166393442622951,
          15.13795518207283,
          15.125,
          15.033333333333333,
          15.032822299651567,
          15,
          14.96523514146465,
          14.96474358974359,
          14.936936936936938,
          14.916666666666666,
          14.880357142857143,
          14.8,
          14.75,
          14.749175970228602,
          14.724726775956283,
          14.706613508442777,
          14.664263116808414,
          14.593837535014005,
          14.581613508442777,
          14.571428571428571,
          14.5701366753598,
          14.511599511599512,
          14.5,
          14.5,
          14.5,
          14.458333333333334,
          14.444444444444445,
          14.42092731829574,
          14.380952380952383,
          14.375,
          14.354545454545455,
          14.333333333333334,
          14.318181818181818,
          14.311754334749441,
          14.262283693318176,
          14.256144393241167,
          14.242105263157896,
          14.234848484848484,
          14.227851458885942,
          14.2,
          14.195430107526882,
          14.184962406015037,
          14.093837535014003,
          14.091575091575091,
          14.090476190476188,
          14.042105263157895,
          14.040384615384616,
          14.02142857142857,
          14.016666666666666,
          14,
          14,
          14,
          14,
          13.933333333333334,
          13.901382488479262,
          13.894444444444446,
          13.890151515151514,
          13.886904761904761,
          13.865243902439024,
          13.855172413793104,
          13.813725490196077,
          13.804125042147003,
          13.8,
          13.8,
          13.8,
          13.73076923076923,
          13.726315789473684,
          13.701666666666666,
          13.701666666666666,
          13.698924731182794,
          13.660539215686272,
          13.659313725490195,
          13.656390977443609,
          13.633333333333333,
          13.625313283208019,
          13.623460410557184,
          13.602564102564102,
          13.598316685164631,
          13.591954022988507,
          13.556756756756757,
          13.52653749759013,
          13.520430107526883,
          13.516666666666666,
          13.5,
          13.5,
          13.476190476190476,
          13.469061583577714,
          13.4,
          13.398496240601505,
          13.375,
          13.375,
          13.367924528301888,
          13.366666666666667,
          13.361904761904762,
          13.339080459770114,
          13.337474120082815,
          13.333333333333334,
          13.326666666666666,
          13.291666666666666,
          13.288888888888888,
          13.283333333333335,
          13.277149321266968,
          13.27027027027027,
          13.251879699248121,
          13.25,
          13.25,
          13.24655217278168,
          13.205882352941178,
          13.2,
          13.1875,
          13.166666666666666,
          13.158730158730158,
          13.156302521008403,
          13.14700065919578,
          13.142857142857142,
          13.139664467937713,
          13.087301587301587,
          13.083333333333332,
          13.062111801242237,
          13.060511089681775,
          13.055555555555555,
          13.011627906976745,
          13.005036931866199,
          13,
          12.973809523809525,
          12.940038762819995,
          12.93076923076923,
          12.911111111111111,
          12.904761904761905,
          12.897435897435898,
          12.892857142857142,
          12.887096774193548,
          12.845238095238097,
          12.83575605680869,
          12.833333333333334,
          12.80623973727422,
          12.772435897435898,
          12.756756756756756,
          12.75,
          12.730440967283071,
          12.717948717948717,
          12.70667263770712,
          12.7,
          12.7,
          12.68421052631579,
          12.67710918114144,
          12.666666666666668,
          12.634453781512606,
          12.62672064777328,
          12.59090909090909,
          12.585192697768765,
          12.583333333333332,
          12.529411764705882,
          12.521848739495798,
          12.503968253968255,
          12.5,
          12.499980721033353,
          12.494795804862546,
          12.486111111111112,
          12.466666666666667,
          12.4375,
          12.423076923076923,
          12.413127413127413,
          12.406007449237054,
          12.385121457489879,
          12.376984126984127,
          12.367251461988303,
          12.357142857142858,
          12.356624319419238,
          12.333333333333332,
          12.327819548872181,
          12.3,
          12.27466515751745,
          12.274038461538462,
          12.266129032258064,
          12.259848484848485,
          12.23631436314363,
          12.212703252032519,
          12.177884615384615,
          12.177272727272726,
          12.16600145137881,
          12.159752321981424,
          12.144796380090497,
          12.14065934065934,
          12.124542124542124,
          12.116666666666667,
          12.095238095238095,
          12.089724310776942,
          12.044117647058822,
          12.044117647058822,
          12.031410256410256,
          12.029032258064516,
          12.022275795564127,
          12.008456934686444,
          11.980056980056979,
          11.964912280701755,
          11.95,
          11.942307692307692,
          11.934523809523808,
          11.92672064777328,
          11.916666666666666,
          11.912348178137652,
          11.907835198856873,
          11.904761904761905,
          11.9,
          11.898245614035087,
          11.894736842105264,
          11.887096774193548,
          11.883333333333335,
          11.881372549019607,
          11.868770764119603,
          11.868504772004242,
          11.841666666666667,
          11.832804232804234,
          11.821428571428571,
          11.812890812890814,
          11.810511089681775,
          11.805747126436781,
          11.785714285714285,
          11.770679156908665,
          11.768199233716476,
          11.767651888341543,
          11.753968253968253,
          11.730056980056979,
          11.7,
          11.672413793103448,
          11.668505942275042,
          11.66470588235294,
          11.656174750601995,
          11.6247947454844,
          11.611764705882354,
          11.606837606837606,
          11.6,
          11.569787882339154,
          11.540038762819995,
          11.52027027027027,
          11.5,
          11.499980721033353,
          11.48974358974359,
          11.476851851851853,
          11.452380952380953,
          11.450738916256157,
          11.447511312217195,
          11.43244423275383,
          11.416666666666666,
          11.4062656641604,
          11.398746383799422,
          11.38765294771969,
          11.38409090909091,
          11.380952380952381,
          11.353603603603602,
          11.316993464052288,
          11.31639344262295,
          11.301857585139318,
          11.295238095238094,
          11.293535300660867,
          11.28525641025641,
          11.24416282642089,
          11.208333333333334,
          11.17829457364341,
          11.166666666666666,
          11.141737572772056,
          11.107881773399015,
          11.102564102564104,
          11.088095238095239,
          11.016666666666666,
          11,
          10.986697513013304,
          10.98631436314363,
          10.98076923076923,
          10.964285714285714,
          10.958646616541353,
          10.945454545454545,
          10.94047619047619,
          10.928571428571429,
          10.916666666666668,
          10.914473684210526,
          10.883333333333333,
          10.833333333333332,
          10.828927651708884,
          10.783792710022219,
          10.772222222222222,
          10.761111111111111,
          10.722527472527473,
          10.708333333333332,
          10.666666666666666,
          10.666666666666666,
          10.628260869565217,
          10.625,
          10.625,
          10.591954022988507,
          10.583333333333334,
          10.575091575091577,
          10.532894736842106,
          10.508333333333333,
          10.5,
          10.5,
          10.5,
          10.479743942937075,
          10.478571428571428,
          10.466666666666667,
          10.431372549019606,
          10.429032258064517,
          10.416253101736974,
          10.393620414673048,
          10.391596638655463,
          10.375,
          10.345399698340875,
          10.322549019607843,
          10.31421568627451,
          10.298238798238799,
          10.258620689655173,
          10.242105263157896,
          10.23443491991879,
          10.229166666666666,
          10.215686274509803,
          10.208333333333334,
          10.2,
          10.125,
          10.116666666666667,
          10.1,
          10.091954022988507,
          10.085081585081586,
          10.083333333333332,
          10.055555555555555,
          10.05,
          10.020833333333332,
          10.016129032258064
         ]
        }
       ],
       "layout": {
        "margin": {
         "b": 100,
         "l": 50,
         "r": 50,
         "t": 100
        },
        "template": {
         "data": {
          "bar": [
           {
            "error_x": {
             "color": "#2a3f5f"
            },
            "error_y": {
             "color": "#2a3f5f"
            },
            "marker": {
             "line": {
              "color": "#E5ECF6",
              "width": 0.5
             },
             "pattern": {
              "fillmode": "overlay",
              "size": 10,
              "solidity": 0.2
             }
            },
            "type": "bar"
           }
          ],
          "barpolar": [
           {
            "marker": {
             "line": {
              "color": "#E5ECF6",
              "width": 0.5
             },
             "pattern": {
              "fillmode": "overlay",
              "size": 10,
              "solidity": 0.2
             }
            },
            "type": "barpolar"
           }
          ],
          "carpet": [
           {
            "aaxis": {
             "endlinecolor": "#2a3f5f",
             "gridcolor": "white",
             "linecolor": "white",
             "minorgridcolor": "white",
             "startlinecolor": "#2a3f5f"
            },
            "baxis": {
             "endlinecolor": "#2a3f5f",
             "gridcolor": "white",
             "linecolor": "white",
             "minorgridcolor": "white",
             "startlinecolor": "#2a3f5f"
            },
            "type": "carpet"
           }
          ],
          "choropleth": [
           {
            "colorbar": {
             "outlinewidth": 0,
             "ticks": ""
            },
            "type": "choropleth"
           }
          ],
          "contour": [
           {
            "colorbar": {
             "outlinewidth": 0,
             "ticks": ""
            },
            "colorscale": [
             [
              0,
              "#0d0887"
             ],
             [
              0.1111111111111111,
              "#46039f"
             ],
             [
              0.2222222222222222,
              "#7201a8"
             ],
             [
              0.3333333333333333,
              "#9c179e"
             ],
             [
              0.4444444444444444,
              "#bd3786"
             ],
             [
              0.5555555555555556,
              "#d8576b"
             ],
             [
              0.6666666666666666,
              "#ed7953"
             ],
             [
              0.7777777777777778,
              "#fb9f3a"
             ],
             [
              0.8888888888888888,
              "#fdca26"
             ],
             [
              1,
              "#f0f921"
             ]
            ],
            "type": "contour"
           }
          ],
          "contourcarpet": [
           {
            "colorbar": {
             "outlinewidth": 0,
             "ticks": ""
            },
            "type": "contourcarpet"
           }
          ],
          "heatmap": [
           {
            "colorbar": {
             "outlinewidth": 0,
             "ticks": ""
            },
            "colorscale": [
             [
              0,
              "#0d0887"
             ],
             [
              0.1111111111111111,
              "#46039f"
             ],
             [
              0.2222222222222222,
              "#7201a8"
             ],
             [
              0.3333333333333333,
              "#9c179e"
             ],
             [
              0.4444444444444444,
              "#bd3786"
             ],
             [
              0.5555555555555556,
              "#d8576b"
             ],
             [
              0.6666666666666666,
              "#ed7953"
             ],
             [
              0.7777777777777778,
              "#fb9f3a"
             ],
             [
              0.8888888888888888,
              "#fdca26"
             ],
             [
              1,
              "#f0f921"
             ]
            ],
            "type": "heatmap"
           }
          ],
          "heatmapgl": [
           {
            "colorbar": {
             "outlinewidth": 0,
             "ticks": ""
            },
            "colorscale": [
             [
              0,
              "#0d0887"
             ],
             [
              0.1111111111111111,
              "#46039f"
             ],
             [
              0.2222222222222222,
              "#7201a8"
             ],
             [
              0.3333333333333333,
              "#9c179e"
             ],
             [
              0.4444444444444444,
              "#bd3786"
             ],
             [
              0.5555555555555556,
              "#d8576b"
             ],
             [
              0.6666666666666666,
              "#ed7953"
             ],
             [
              0.7777777777777778,
              "#fb9f3a"
             ],
             [
              0.8888888888888888,
              "#fdca26"
             ],
             [
              1,
              "#f0f921"
             ]
            ],
            "type": "heatmapgl"
           }
          ],
          "histogram": [
           {
            "marker": {
             "pattern": {
              "fillmode": "overlay",
              "size": 10,
              "solidity": 0.2
             }
            },
            "type": "histogram"
           }
          ],
          "histogram2d": [
           {
            "colorbar": {
             "outlinewidth": 0,
             "ticks": ""
            },
            "colorscale": [
             [
              0,
              "#0d0887"
             ],
             [
              0.1111111111111111,
              "#46039f"
             ],
             [
              0.2222222222222222,
              "#7201a8"
             ],
             [
              0.3333333333333333,
              "#9c179e"
             ],
             [
              0.4444444444444444,
              "#bd3786"
             ],
             [
              0.5555555555555556,
              "#d8576b"
             ],
             [
              0.6666666666666666,
              "#ed7953"
             ],
             [
              0.7777777777777778,
              "#fb9f3a"
             ],
             [
              0.8888888888888888,
              "#fdca26"
             ],
             [
              1,
              "#f0f921"
             ]
            ],
            "type": "histogram2d"
           }
          ],
          "histogram2dcontour": [
           {
            "colorbar": {
             "outlinewidth": 0,
             "ticks": ""
            },
            "colorscale": [
             [
              0,
              "#0d0887"
             ],
             [
              0.1111111111111111,
              "#46039f"
             ],
             [
              0.2222222222222222,
              "#7201a8"
             ],
             [
              0.3333333333333333,
              "#9c179e"
             ],
             [
              0.4444444444444444,
              "#bd3786"
             ],
             [
              0.5555555555555556,
              "#d8576b"
             ],
             [
              0.6666666666666666,
              "#ed7953"
             ],
             [
              0.7777777777777778,
              "#fb9f3a"
             ],
             [
              0.8888888888888888,
              "#fdca26"
             ],
             [
              1,
              "#f0f921"
             ]
            ],
            "type": "histogram2dcontour"
           }
          ],
          "mesh3d": [
           {
            "colorbar": {
             "outlinewidth": 0,
             "ticks": ""
            },
            "type": "mesh3d"
           }
          ],
          "parcoords": [
           {
            "line": {
             "colorbar": {
              "outlinewidth": 0,
              "ticks": ""
             }
            },
            "type": "parcoords"
           }
          ],
          "pie": [
           {
            "automargin": true,
            "type": "pie"
           }
          ],
          "scatter": [
           {
            "fillpattern": {
             "fillmode": "overlay",
             "size": 10,
             "solidity": 0.2
            },
            "type": "scatter"
           }
          ],
          "scatter3d": [
           {
            "line": {
             "colorbar": {
              "outlinewidth": 0,
              "ticks": ""
             }
            },
            "marker": {
             "colorbar": {
              "outlinewidth": 0,
              "ticks": ""
             }
            },
            "type": "scatter3d"
           }
          ],
          "scattercarpet": [
           {
            "marker": {
             "colorbar": {
              "outlinewidth": 0,
              "ticks": ""
             }
            },
            "type": "scattercarpet"
           }
          ],
          "scattergeo": [
           {
            "marker": {
             "colorbar": {
              "outlinewidth": 0,
              "ticks": ""
             }
            },
            "type": "scattergeo"
           }
          ],
          "scattergl": [
           {
            "marker": {
             "colorbar": {
              "outlinewidth": 0,
              "ticks": ""
             }
            },
            "type": "scattergl"
           }
          ],
          "scattermapbox": [
           {
            "marker": {
             "colorbar": {
              "outlinewidth": 0,
              "ticks": ""
             }
            },
            "type": "scattermapbox"
           }
          ],
          "scatterpolar": [
           {
            "marker": {
             "colorbar": {
              "outlinewidth": 0,
              "ticks": ""
             }
            },
            "type": "scatterpolar"
           }
          ],
          "scatterpolargl": [
           {
            "marker": {
             "colorbar": {
              "outlinewidth": 0,
              "ticks": ""
             }
            },
            "type": "scatterpolargl"
           }
          ],
          "scatterternary": [
           {
            "marker": {
             "colorbar": {
              "outlinewidth": 0,
              "ticks": ""
             }
            },
            "type": "scatterternary"
           }
          ],
          "surface": [
           {
            "colorbar": {
             "outlinewidth": 0,
             "ticks": ""
            },
            "colorscale": [
             [
              0,
              "#0d0887"
             ],
             [
              0.1111111111111111,
              "#46039f"
             ],
             [
              0.2222222222222222,
              "#7201a8"
             ],
             [
              0.3333333333333333,
              "#9c179e"
             ],
             [
              0.4444444444444444,
              "#bd3786"
             ],
             [
              0.5555555555555556,
              "#d8576b"
             ],
             [
              0.6666666666666666,
              "#ed7953"
             ],
             [
              0.7777777777777778,
              "#fb9f3a"
             ],
             [
              0.8888888888888888,
              "#fdca26"
             ],
             [
              1,
              "#f0f921"
             ]
            ],
            "type": "surface"
           }
          ],
          "table": [
           {
            "cells": {
             "fill": {
              "color": "#EBF0F8"
             },
             "line": {
              "color": "white"
             }
            },
            "header": {
             "fill": {
              "color": "#C8D4E3"
             },
             "line": {
              "color": "white"
             }
            },
            "type": "table"
           }
          ]
         },
         "layout": {
          "annotationdefaults": {
           "arrowcolor": "#2a3f5f",
           "arrowhead": 0,
           "arrowwidth": 1
          },
          "autotypenumbers": "strict",
          "coloraxis": {
           "colorbar": {
            "outlinewidth": 0,
            "ticks": ""
           }
          },
          "colorscale": {
           "diverging": [
            [
             0,
             "#8e0152"
            ],
            [
             0.1,
             "#c51b7d"
            ],
            [
             0.2,
             "#de77ae"
            ],
            [
             0.3,
             "#f1b6da"
            ],
            [
             0.4,
             "#fde0ef"
            ],
            [
             0.5,
             "#f7f7f7"
            ],
            [
             0.6,
             "#e6f5d0"
            ],
            [
             0.7,
             "#b8e186"
            ],
            [
             0.8,
             "#7fbc41"
            ],
            [
             0.9,
             "#4d9221"
            ],
            [
             1,
             "#276419"
            ]
           ],
           "sequential": [
            [
             0,
             "#0d0887"
            ],
            [
             0.1111111111111111,
             "#46039f"
            ],
            [
             0.2222222222222222,
             "#7201a8"
            ],
            [
             0.3333333333333333,
             "#9c179e"
            ],
            [
             0.4444444444444444,
             "#bd3786"
            ],
            [
             0.5555555555555556,
             "#d8576b"
            ],
            [
             0.6666666666666666,
             "#ed7953"
            ],
            [
             0.7777777777777778,
             "#fb9f3a"
            ],
            [
             0.8888888888888888,
             "#fdca26"
            ],
            [
             1,
             "#f0f921"
            ]
           ],
           "sequentialminus": [
            [
             0,
             "#0d0887"
            ],
            [
             0.1111111111111111,
             "#46039f"
            ],
            [
             0.2222222222222222,
             "#7201a8"
            ],
            [
             0.3333333333333333,
             "#9c179e"
            ],
            [
             0.4444444444444444,
             "#bd3786"
            ],
            [
             0.5555555555555556,
             "#d8576b"
            ],
            [
             0.6666666666666666,
             "#ed7953"
            ],
            [
             0.7777777777777778,
             "#fb9f3a"
            ],
            [
             0.8888888888888888,
             "#fdca26"
            ],
            [
             1,
             "#f0f921"
            ]
           ]
          },
          "colorway": [
           "#636efa",
           "#EF553B",
           "#00cc96",
           "#ab63fa",
           "#FFA15A",
           "#19d3f3",
           "#FF6692",
           "#B6E880",
           "#FF97FF",
           "#FECB52"
          ],
          "font": {
           "color": "#2a3f5f"
          },
          "geo": {
           "bgcolor": "white",
           "lakecolor": "white",
           "landcolor": "#E5ECF6",
           "showlakes": true,
           "showland": true,
           "subunitcolor": "white"
          },
          "hoverlabel": {
           "align": "left"
          },
          "hovermode": "closest",
          "mapbox": {
           "style": "light"
          },
          "paper_bgcolor": "white",
          "plot_bgcolor": "#E5ECF6",
          "polar": {
           "angularaxis": {
            "gridcolor": "white",
            "linecolor": "white",
            "ticks": ""
           },
           "bgcolor": "#E5ECF6",
           "radialaxis": {
            "gridcolor": "white",
            "linecolor": "white",
            "ticks": ""
           }
          },
          "scene": {
           "xaxis": {
            "backgroundcolor": "#E5ECF6",
            "gridcolor": "white",
            "gridwidth": 2,
            "linecolor": "white",
            "showbackground": true,
            "ticks": "",
            "zerolinecolor": "white"
           },
           "yaxis": {
            "backgroundcolor": "#E5ECF6",
            "gridcolor": "white",
            "gridwidth": 2,
            "linecolor": "white",
            "showbackground": true,
            "ticks": "",
            "zerolinecolor": "white"
           },
           "zaxis": {
            "backgroundcolor": "#E5ECF6",
            "gridcolor": "white",
            "gridwidth": 2,
            "linecolor": "white",
            "showbackground": true,
            "ticks": "",
            "zerolinecolor": "white"
           }
          },
          "shapedefaults": {
           "line": {
            "color": "#2a3f5f"
           }
          },
          "ternary": {
           "aaxis": {
            "gridcolor": "white",
            "linecolor": "white",
            "ticks": ""
           },
           "baxis": {
            "gridcolor": "white",
            "linecolor": "white",
            "ticks": ""
           },
           "bgcolor": "#E5ECF6",
           "caxis": {
            "gridcolor": "white",
            "linecolor": "white",
            "ticks": ""
           }
          },
          "title": {
           "x": 0.05
          },
          "xaxis": {
           "automargin": true,
           "gridcolor": "white",
           "linecolor": "white",
           "ticks": "",
           "title": {
            "standoff": 15
           },
           "zerolinecolor": "white",
           "zerolinewidth": 2
          },
          "yaxis": {
           "automargin": true,
           "gridcolor": "white",
           "linecolor": "white",
           "ticks": "",
           "title": {
            "standoff": 15
           },
           "zerolinecolor": "white",
           "zerolinewidth": 2
          }
         }
        },
        "title": {
         "text": "Keyword Frequency Distribution"
        }
       }
      }
     },
     "metadata": {},
     "output_type": "display_data"
    }
   ],
   "source": [
    "import plotly.graph_objs as go\n",
    "\n",
    "def create_pie_chart(frequencies, keywords):\n",
    "    data = [go.Pie(\n",
    "        labels=keywords,\n",
    "        values=frequencies,\n",
    "        hoverinfo='label+percent',\n",
    "        textinfo='value',\n",
    "        textposition='inside',\n",
    "    )]\n",
    "\n",
    "    layout = go.Layout(\n",
    "        title='Keyword Frequency Distribution',\n",
    "        margin=dict(l=50, r=50, t=100, b=100),\n",
    "    )\n",
    "\n",
    "    fig = go.Figure(data=data, layout=layout)\n",
    "    fig.update_traces(marker=dict(line=dict(color='#000000', width=2)))\n",
    "    \n",
    "    fig.show()\n",
    "\n",
    "# # Example usage:\n",
    "# frequencies = [10, 20, 30, 40, 50]  # Replace with your frequency data\n",
    "# keywords = ['Keyword 1', 'Keyword 2', 'Keyword 3', 'Keyword 4', 'Keyword 5']  # Replace with your keyword data\n",
    "\n",
    "create_pie_chart(frequency, keyword)\n"
   ]
  },
  {
   "cell_type": "code",
   "execution_count": null,
   "metadata": {},
   "outputs": [],
   "source": []
  },
  {
   "cell_type": "code",
   "execution_count": 1,
   "metadata": {},
   "outputs": [
    {
     "name": "stdout",
     "output_type": "stream",
     "text": [
      "dict_keys(['frequency', 'keyword', 'frequency_tagline', 'keyword_tagline', 'experience_string', 'tagline_string'])\n"
     ]
    }
   ],
   "source": [
    "import pickle\n",
    "with open('analysis.pkl','rb') as file:\n",
    "    loaded_data = pickle.load(file)\n",
    "key = loaded_data.keys()\n",
    "print(key)"
   ]
  },
  {
   "cell_type": "code",
   "execution_count": 16,
   "metadata": {},
   "outputs": [
    {
     "ename": "ValueError",
     "evalue": "2 columns passed, passed data had 496 columns",
     "output_type": "error",
     "traceback": [
      "\u001b[0;31m---------------------------------------------------------------------------\u001b[0m",
      "\u001b[0;31mAssertionError\u001b[0m                            Traceback (most recent call last)",
      "\u001b[0;32m~/.local/lib/python3.10/site-packages/pandas/core/internals/construction.py\u001b[0m in \u001b[0;36m_finalize_columns_and_data\u001b[0;34m(content, columns, dtype)\u001b[0m\n\u001b[1;32m    968\u001b[0m     \u001b[0;32mtry\u001b[0m\u001b[0;34m:\u001b[0m\u001b[0;34m\u001b[0m\u001b[0;34m\u001b[0m\u001b[0m\n\u001b[0;32m--> 969\u001b[0;31m         \u001b[0mcolumns\u001b[0m \u001b[0;34m=\u001b[0m \u001b[0m_validate_or_indexify_columns\u001b[0m\u001b[0;34m(\u001b[0m\u001b[0mcontents\u001b[0m\u001b[0;34m,\u001b[0m \u001b[0mcolumns\u001b[0m\u001b[0;34m)\u001b[0m\u001b[0;34m\u001b[0m\u001b[0;34m\u001b[0m\u001b[0m\n\u001b[0m\u001b[1;32m    970\u001b[0m     \u001b[0;32mexcept\u001b[0m \u001b[0mAssertionError\u001b[0m \u001b[0;32mas\u001b[0m \u001b[0merr\u001b[0m\u001b[0;34m:\u001b[0m\u001b[0;34m\u001b[0m\u001b[0;34m\u001b[0m\u001b[0m\n",
      "\u001b[0;32m~/.local/lib/python3.10/site-packages/pandas/core/internals/construction.py\u001b[0m in \u001b[0;36m_validate_or_indexify_columns\u001b[0;34m(content, columns)\u001b[0m\n\u001b[1;32m   1016\u001b[0m             \u001b[0;31m# caller's responsibility to check for this...\u001b[0m\u001b[0;34m\u001b[0m\u001b[0;34m\u001b[0m\u001b[0m\n\u001b[0;32m-> 1017\u001b[0;31m             raise AssertionError(\n\u001b[0m\u001b[1;32m   1018\u001b[0m                 \u001b[0;34mf\"{len(columns)} columns passed, passed data had \"\u001b[0m\u001b[0;34m\u001b[0m\u001b[0;34m\u001b[0m\u001b[0m\n",
      "\u001b[0;31mAssertionError\u001b[0m: 2 columns passed, passed data had 496 columns",
      "\nThe above exception was the direct cause of the following exception:\n",
      "\u001b[0;31mValueError\u001b[0m                                Traceback (most recent call last)",
      "\u001b[0;32m/tmp/ipykernel_4255/2536073948.py\u001b[0m in \u001b[0;36m<module>\u001b[0;34m\u001b[0m\n\u001b[1;32m      4\u001b[0m \u001b[0;32mimport\u001b[0m \u001b[0mpandas\u001b[0m \u001b[0;32mas\u001b[0m \u001b[0mpd\u001b[0m\u001b[0;34m\u001b[0m\u001b[0;34m\u001b[0m\u001b[0m\n\u001b[1;32m      5\u001b[0m \u001b[0;34m\u001b[0m\u001b[0m\n\u001b[0;32m----> 6\u001b[0;31m \u001b[0mdf\u001b[0m\u001b[0;34m=\u001b[0m \u001b[0mpd\u001b[0m\u001b[0;34m.\u001b[0m\u001b[0mDataFrame\u001b[0m\u001b[0;34m(\u001b[0m\u001b[0;34m(\u001b[0m\u001b[0;34m[\u001b[0m\u001b[0mfrequency\u001b[0m\u001b[0;34m,\u001b[0m\u001b[0mkeyword\u001b[0m\u001b[0;34m]\u001b[0m\u001b[0;34m)\u001b[0m\u001b[0;34m,\u001b[0m\u001b[0mcolumns\u001b[0m \u001b[0;34m=\u001b[0m \u001b[0;34m(\u001b[0m\u001b[0;34m'frequency'\u001b[0m\u001b[0;34m,\u001b[0m\u001b[0;34m'keyword'\u001b[0m\u001b[0;34m)\u001b[0m\u001b[0;34m)\u001b[0m\u001b[0;34m\u001b[0m\u001b[0;34m\u001b[0m\u001b[0m\n\u001b[0m\u001b[1;32m      7\u001b[0m \u001b[0mdf\u001b[0m\u001b[0;34m.\u001b[0m\u001b[0mhead\u001b[0m\u001b[0;34m(\u001b[0m\u001b[0;34m)\u001b[0m\u001b[0;34m\u001b[0m\u001b[0;34m\u001b[0m\u001b[0m\n\u001b[1;32m      8\u001b[0m \u001b[0mfrequency\u001b[0m\u001b[0;34m.\u001b[0m\u001b[0mshape\u001b[0m\u001b[0;34m\u001b[0m\u001b[0;34m\u001b[0m\u001b[0m\n",
      "\u001b[0;32m~/.local/lib/python3.10/site-packages/pandas/core/frame.py\u001b[0m in \u001b[0;36m__init__\u001b[0;34m(self, data, index, columns, dtype, copy)\u001b[0m\n\u001b[1;32m    744\u001b[0m                     \u001b[0;32mif\u001b[0m \u001b[0mcolumns\u001b[0m \u001b[0;32mis\u001b[0m \u001b[0;32mnot\u001b[0m \u001b[0;32mNone\u001b[0m\u001b[0;34m:\u001b[0m\u001b[0;34m\u001b[0m\u001b[0;34m\u001b[0m\u001b[0m\n\u001b[1;32m    745\u001b[0m                         \u001b[0mcolumns\u001b[0m \u001b[0;34m=\u001b[0m \u001b[0mensure_index\u001b[0m\u001b[0;34m(\u001b[0m\u001b[0mcolumns\u001b[0m\u001b[0;34m)\u001b[0m\u001b[0;34m\u001b[0m\u001b[0;34m\u001b[0m\u001b[0m\n\u001b[0;32m--> 746\u001b[0;31m                     arrays, columns, index = nested_data_to_arrays(\n\u001b[0m\u001b[1;32m    747\u001b[0m                         \u001b[0;31m# error: Argument 3 to \"nested_data_to_arrays\" has incompatible\u001b[0m\u001b[0;34m\u001b[0m\u001b[0;34m\u001b[0m\u001b[0m\n\u001b[1;32m    748\u001b[0m                         \u001b[0;31m# type \"Optional[Collection[Any]]\"; expected \"Optional[Index]\"\u001b[0m\u001b[0;34m\u001b[0m\u001b[0;34m\u001b[0m\u001b[0m\n",
      "\u001b[0;32m~/.local/lib/python3.10/site-packages/pandas/core/internals/construction.py\u001b[0m in \u001b[0;36mnested_data_to_arrays\u001b[0;34m(data, columns, index, dtype)\u001b[0m\n\u001b[1;32m    508\u001b[0m         \u001b[0mcolumns\u001b[0m \u001b[0;34m=\u001b[0m \u001b[0mensure_index\u001b[0m\u001b[0;34m(\u001b[0m\u001b[0mdata\u001b[0m\u001b[0;34m[\u001b[0m\u001b[0;36m0\u001b[0m\u001b[0;34m]\u001b[0m\u001b[0;34m.\u001b[0m\u001b[0m_fields\u001b[0m\u001b[0;34m)\u001b[0m\u001b[0;34m\u001b[0m\u001b[0;34m\u001b[0m\u001b[0m\n\u001b[1;32m    509\u001b[0m \u001b[0;34m\u001b[0m\u001b[0m\n\u001b[0;32m--> 510\u001b[0;31m     \u001b[0marrays\u001b[0m\u001b[0;34m,\u001b[0m \u001b[0mcolumns\u001b[0m \u001b[0;34m=\u001b[0m \u001b[0mto_arrays\u001b[0m\u001b[0;34m(\u001b[0m\u001b[0mdata\u001b[0m\u001b[0;34m,\u001b[0m \u001b[0mcolumns\u001b[0m\u001b[0;34m,\u001b[0m \u001b[0mdtype\u001b[0m\u001b[0;34m=\u001b[0m\u001b[0mdtype\u001b[0m\u001b[0;34m)\u001b[0m\u001b[0;34m\u001b[0m\u001b[0;34m\u001b[0m\u001b[0m\n\u001b[0m\u001b[1;32m    511\u001b[0m     \u001b[0mcolumns\u001b[0m \u001b[0;34m=\u001b[0m \u001b[0mensure_index\u001b[0m\u001b[0;34m(\u001b[0m\u001b[0mcolumns\u001b[0m\u001b[0;34m)\u001b[0m\u001b[0;34m\u001b[0m\u001b[0;34m\u001b[0m\u001b[0m\n\u001b[1;32m    512\u001b[0m \u001b[0;34m\u001b[0m\u001b[0m\n",
      "\u001b[0;32m~/.local/lib/python3.10/site-packages/pandas/core/internals/construction.py\u001b[0m in \u001b[0;36mto_arrays\u001b[0;34m(data, columns, dtype)\u001b[0m\n\u001b[1;32m    873\u001b[0m         \u001b[0marr\u001b[0m \u001b[0;34m=\u001b[0m \u001b[0m_list_to_arrays\u001b[0m\u001b[0;34m(\u001b[0m\u001b[0mdata\u001b[0m\u001b[0;34m)\u001b[0m\u001b[0;34m\u001b[0m\u001b[0;34m\u001b[0m\u001b[0m\n\u001b[1;32m    874\u001b[0m \u001b[0;34m\u001b[0m\u001b[0m\n\u001b[0;32m--> 875\u001b[0;31m     \u001b[0mcontent\u001b[0m\u001b[0;34m,\u001b[0m \u001b[0mcolumns\u001b[0m \u001b[0;34m=\u001b[0m \u001b[0m_finalize_columns_and_data\u001b[0m\u001b[0;34m(\u001b[0m\u001b[0marr\u001b[0m\u001b[0;34m,\u001b[0m \u001b[0mcolumns\u001b[0m\u001b[0;34m,\u001b[0m \u001b[0mdtype\u001b[0m\u001b[0;34m)\u001b[0m\u001b[0;34m\u001b[0m\u001b[0;34m\u001b[0m\u001b[0m\n\u001b[0m\u001b[1;32m    876\u001b[0m     \u001b[0;32mreturn\u001b[0m \u001b[0mcontent\u001b[0m\u001b[0;34m,\u001b[0m \u001b[0mcolumns\u001b[0m\u001b[0;34m\u001b[0m\u001b[0;34m\u001b[0m\u001b[0m\n\u001b[1;32m    877\u001b[0m \u001b[0;34m\u001b[0m\u001b[0m\n",
      "\u001b[0;32m~/.local/lib/python3.10/site-packages/pandas/core/internals/construction.py\u001b[0m in \u001b[0;36m_finalize_columns_and_data\u001b[0;34m(content, columns, dtype)\u001b[0m\n\u001b[1;32m    970\u001b[0m     \u001b[0;32mexcept\u001b[0m \u001b[0mAssertionError\u001b[0m \u001b[0;32mas\u001b[0m \u001b[0merr\u001b[0m\u001b[0;34m:\u001b[0m\u001b[0;34m\u001b[0m\u001b[0;34m\u001b[0m\u001b[0m\n\u001b[1;32m    971\u001b[0m         \u001b[0;31m# GH#26429 do not raise user-facing AssertionError\u001b[0m\u001b[0;34m\u001b[0m\u001b[0;34m\u001b[0m\u001b[0m\n\u001b[0;32m--> 972\u001b[0;31m         \u001b[0;32mraise\u001b[0m \u001b[0mValueError\u001b[0m\u001b[0;34m(\u001b[0m\u001b[0merr\u001b[0m\u001b[0;34m)\u001b[0m \u001b[0;32mfrom\u001b[0m \u001b[0merr\u001b[0m\u001b[0;34m\u001b[0m\u001b[0;34m\u001b[0m\u001b[0m\n\u001b[0m\u001b[1;32m    973\u001b[0m \u001b[0;34m\u001b[0m\u001b[0m\n\u001b[1;32m    974\u001b[0m     \u001b[0;32mif\u001b[0m \u001b[0mlen\u001b[0m\u001b[0;34m(\u001b[0m\u001b[0mcontents\u001b[0m\u001b[0;34m)\u001b[0m \u001b[0;32mand\u001b[0m \u001b[0mcontents\u001b[0m\u001b[0;34m[\u001b[0m\u001b[0;36m0\u001b[0m\u001b[0;34m]\u001b[0m\u001b[0;34m.\u001b[0m\u001b[0mdtype\u001b[0m \u001b[0;34m==\u001b[0m \u001b[0mnp\u001b[0m\u001b[0;34m.\u001b[0m\u001b[0mobject_\u001b[0m\u001b[0;34m:\u001b[0m\u001b[0;34m\u001b[0m\u001b[0;34m\u001b[0m\u001b[0m\n",
      "\u001b[0;31mValueError\u001b[0m: 2 columns passed, passed data had 496 columns"
     ]
    }
   ],
   "source": [
    "import numpy as np\n",
    "frequency = np.array(loaded_data['frequency'])\n",
    "keyword = np.array(loaded_data['keyword'])\n",
    "import pandas as pd \n",
    "\n",
    "df= pd.DataFrame([frequency,keyword],columns = ('frequency','keyword'))\n",
    "df.head()\n",
    "frequency.shape"
   ]
  },
  {
   "cell_type": "code",
   "execution_count": 2,
   "metadata": {},
   "outputs": [
    {
     "name": "stdout",
     "output_type": "stream",
     "text": [
      "  My research interests are in number theory, particularly in Galois representations and modular forms. Currently I have been working on determining the optimal weights and the structure of modular mod p Galois representations associated to certain mod p Hilbert modular forms. My interests also lie in certain aspects of the mod p and p-adic local Langlands program. In particular, the problem of computing the mod p reduction of crystalline representations as an application of the mod p local Langlands correspondence. Research Area: Condensed Matter Theory : Soft and Biological MatterThe aim of our group is to understand the physical properties of biological and soft condensed matter systems that are driven out of equilibrium. We use both analytical approaches (Equilibrium and Non-equilibrium Statistical Mechanics, Hydrodynamics) and computational methods (Molecular Dynamics, Brownian Dynamics, Monte Carlo) to investigate the dynamics of systems ranging from the cell membrane and the cell cytoskeleton to polymers and colloids in confinement.The cell is an active dynamical medium, constantly generating and dissipating energy to sustain the various life processes. It is subject to active stresses arising from a meshwork of filaments (cell cytoskeleton), which is driven out of equilibrium. We use an active hydrodynamics approach for the coupled dynamics of these filaments and the motor proteins to determine the organization of molecules on the cell surface. We study the consequences of such organization on signalling platforms and the uptake of material by the cell.In soft condensed matter, our aim is to understand the emergent properties of colloids and polymers in confinement or otherwise, when they are subjected to time dependent external drives.We are also interested in studying transport properties in general. More specifically we have been studying the problem of heat transport using non-equilibrium simulations and direct numerical evaluations of current given in terms of phonon Green's function. Postwar American literature, in particular the works of the American writer, Don DeLillo is one of my research areas. I also work in the field of Science-in-theatre which addresses the long standing debate about arts-science confluence. The scientist-cum- literary figures, Carl Djeraasi and Roald Hoffmann’s contribution to this field is noteworthy. Film studies, in particular the works of Charles Chaplin, is a field I am currently exploring in-depth. My work is on complex open algebraic surfaces. I study their linear systems and algebro-topological properties. Matrices are one of the most fundamental and useful objects in Mathematics. Set of matrices comes equipped with addition and multiplication laws and is called a matrix algebra. Central simple algebras are a generalisation of matrix algebras and are closely related to the theory of quadratic forms, hermitian forms and linear algebraic groups.My research interests include the study of algebraic groups via central simple algebras. Using algebraic techniques, I have proved that classical algebraic groups over many fields, for example number fields, have trivial R-equivalence class only. This study has consequences in the study of rationality properties of varieties of algebraic groups and certain norm principles for quadratic forms.Isotropy of involutions of central simple algebras is another difficult question to answer in general. I have contributed by giving weak isotropy criterion for a class of central simple algebras. This uses the newly developed notions of gauges.I have also worked on problems concerning ramifications of central simple algebras over rational function fields and \"subfields determining quaternion algebras\" problem and have got some interesting partial results. The tools I use in my research are algebraic; e.g. Galois cohomology, valuations, classifications of quadratic forms etc.After joing IISER I have also become interested in group theoretic computations using mathemtical softwares such as GAP, which I have used to find an interesting counterexample of an ortho-ambivalent group which is not strongly real. My current research interests include phenomenology of loop-induced processes in the SM and beyond, higher order quantum corrections and model independent approach to the study of new physics effects (mainly in the Higgs sector) at colliders. Our current interests are related to different aspects of glutathione and sulphur metabolism in yeasts. Glutathione, γ-glutamyl cysteinyl glycine, an unusual thiol containing tripeptide that is present in high concentrations in almost all eukaryotic cells, plays multiple roles including protection from oxidative stress, maintenance of the cellular redox buffer, in mitochondrial iron-sulphur metabolism, in gene regulation, and in metal and drug detoxification. Glutathione metabolism is intimately linked to sulphur metabolism owing to the presence of the key cysteine residue, and we thus also investigate aspects of sulphur metabolism related to glutathione homeostasis. Our principal focus is on understanding how glutathione levels are maintained in the cell, and we are examining different pathways that contribute towards this maintenance. This includes the high affinity plasma membrane transporter of glutathione that was identified in our lab, the classical and two recently discovered non-classical pathways of glutathione degradation (also discovered in our lab) biosynthesis, organellar compartmentalization and utilization of glutathione. We are attempting to not only understand these different pathways and their regulation in detail, but are interested in integrating these pathways and their regulation into a larger picture of glutathione homeostasis in living cells. Mesoscopic Physical systems are systems whose dimensions are neither macroscopic like (everyday objects ) nor microscopic (say on the scale of individual atoms or molecules). I am an experimentalist working on mesoscopic systems like nano-electro-mechanical systems (NEMS) and nano-scale electronic devices defined by gating 2-D electron systems. The physical problems of interest are typically studied at ultra-low temperatures. Shown below is a Scanning electron micrograph of a doubly clamped gold beam fabricated and studied during my Post-Doc at Nottingham.\n",
      "   \n",
      "                                       The beam is ~200nm wide 80nm thick and several microns long and is like a nano-scale guitar string. But unlike guitar strings which resonate at audio frequencies these beams have resonant frequency ranging from radio-frequency to microwave frequencies depending on the material and dimensions. At low temperatures the possibility of observing macroscopic quantum phenomena makes NEMS as a very attractive physical system. At IISER I will be setting up a low temperature lab and various fabrication facilities to study NEMS and 2-D electron systems. Major Research Themes:Synthesis, characterization and structural analyses and understanding of strong and weak hydrogen bonds:We are focused to design and synthesize new materials with desirable properties for enhanced biological activities involving various functional groups including halogens. The influence of various functional groups and halogens in altering the structural aspects of small organic molecules are analysed and understood utilizing both single crystal and powder X-ray diffraction as the major techniques with the additional support from various spectroscopic techniques (FTIR, NMR) and other thermal methods (TGA, DSC). The structure-property relationship is achieved through suitable correlation between the structural analyses and theoretical calculations using ab-initio computations.Crystal engineering and Polymorphism:Crystal engineering deals with the in-depth understanding of various strong and weak interactions in the solid state and applying them in building suitable supramolecular assemblies for desired properties. Polymorphism in small organic and inorganic materials are useful in various fields such a pharmaceutical chemistry, opto-electronic devices, magnetic materials etc. Understanding of the kinetics and thermodynamics behind the crystal nucleation and growth for various polymorphs of a given compound is a challenging task and is one of the major areas of our research.Pharmaceutical cocrystallization and formulation of drugs:Our research is also focused in the direction of crystallization of drugs and pharmaceuticals for higher solubility and better bio-availability. We work on a number of different classes (antibiotic, antifungal, anti-depression etc.) of widely used drugs to modify their formulations for higher solubility, better intrinsic dissolution rates to achieve higher bio-availability. We also concentrate in generating different polymorphic modifications of these drugs and pharmaceuticals to produce a new crystalline form with better physical properties and higher chemical stability.Computational analyses of weak interactions and crystal structure prediction:We also work on computational aspects related to weak interactions observed in the solid state using various computational methods using Gaussian09 and AIM2000 in the gas phase and using Crystal14 in the periodic systems in the solid state. We use Material Studio for the prediction of crystal structures of small molecules.Experimental and theoretical charge density studies:Using high resolution single crystal X-ray diffraction data, we analyse experimental charge densities (using both XD and MoPro) in order to understand the nature, strength and directionality of various strong and weak interactions in the solid state. Theoretical charge density analyses are also done to compare the experimental multipole model with the theoretically calculated charge density distribution using Crystal14.In situ crtystallization of low melting materials:The crystallization and structural analyses of the materials which are liquid below 30 oC is a challenging task. Crystallization and structure elucidation of very low melting materials are routinely carried out in our laboratory using Optical Heating and Crystallization Device (OHCD). This technique helps us to crystallize low melting natural products, low melting small organic compounds for their structure determination. The same technique is used to study cocrystallization of a pair of small organic molecules as well. The Indian monsoon is one of the largest climate systems on earth and impacts the livelihood of nearly 40% of the world’s population. Despite dedicated efforts, a comprehensive picture of monsoon variability has proved elusive largely due to the absence of long term high resolution records, spatial inhomogeneity of the monsoon precipitation, and the complex forcing mechanisms (solar insolation, internal teleconnections for e.g., El Niño-Southern Oscillation, tropical-midlatitude interactions). The objective of my research is to reconstruct changes in the late Quaternary erosional, sedimentation, and palaeoproductivity patterns using lake sediments as climate archives. A unique combination of sedimentological (micro-facies), geochemical, isotopic and biomarker based proxies will be used for climate reconstruction from palaeolake sediments in climatically sensitive regions. Critical perspectives on disaster relief- How do we define disasters and what does it mean to provide relief? How does the defining of disasters and the performance of relief produce place and construct subjects - as agents and as victims; as local, national or global; as providers and as receivers and so on. My ethnographic fieldwork on disaster relief reveals relief work and relief sites (camps) as spaces where subjectivities are dismantled, reproduced, and reconstructed; where international aid and local politics intersect; and where numerous discourses surrounding disasters and developments circulate and find roots. The idea is to go beyond a purely economic analysis of disaster relief and take the vulnerability analysis a step further to understand disasters and relief as socio-cultural and political processes.- Gender and nationalism in the construction of border roads I am collecting life-stories of migrant workers that build roads in the remote reaches of India. The project intends to construct an ethnography weaving together the stories of these road builders with themes of nationalism, tourism, circular migration, gender and development.Developing Participatory Action Research tools - I am collaborating with a Chandigarh based NGO, Center for Education and Voluntary Action (CEVA) to develop methods and tools that enable participatory approaches in qualitative research and social change. The main focus of our research is to explore a wide range of problems in condensed phase chemical dynamics through a combination of theory and experiment.  Experiments: I) Ultrafast spectroscopyApart from routine picosecond fluorescence lifetime and femtosecond pump-probe (transient absorption) measurements, we have constructed a Two-dimensional electronic spectroscopy (2DES) set-up (using an AOPDF pulse shaper) and, quite recently, a Time-Resolved Impulsive Stimulated Raman Spectroscopy (TR-ISRS) set-up. This has enabled us to study: 1) Energy/charge transfer dynamics withini) Multichromophoric systemsii) Photovoltaic materials (quantum dots, perovskites)iii) Fluorescent proteins2) Early-time (<1 ps) solvation dynamics3) Dynamics of optically \"dark\" statesII) Optical trapping:We have designed and built a versatile Optical Tweezer (OT) set-up having multimodal detection capabilities. Under femsosecond pulsed excitation, this has enabled us to study:1) Non-linear optical effects in optical trapping of:i) Dielectric spherical particles with high Kerr nonlinearityii) Metallic nanoparticles under excitation near plasmon resonance The Optical Tweezer set-up will be coupled with a Laser Beam Shaping set-up (using a 2D LC-SLM) to build a Holographic Optical Tweezer (HOT) set-up. This will enable us to study:2) Long-range interaction between trapped particles in an array leading to emergence of collective phenomena  To better understand the fine balance between nonlinear optical and thermal nonlinearities, we have also started experiments on:3) Photo-thermal spectroscopyB) TheoryAlong with experiment, we also perform extensive numerical simulation for:1) Estimating nonlinear force/potential in femtosecond laser trapping2) Modelling excited state dynamicsWe also use software packages (Gaussian 09) for routine electronic structure theory calculation. Immunotherapy denotes an important strategy for manipulating a patient's immune response. In cancer or infectious diseases the approach is designed to boost the patient's immune response toward tumor antigens or pathogens. Conversely, immunotherapeutic strategies in autoimmunity or allergy are designed to silence the patient's response against autoantigens or allergens.Currently my research focus is on characterization of porin proteins of Gram-negative pathogenic bacteria for host immunomodulatory roles and detailed immune cell signalling mechanisms.We already know dendritic cells (DCs) are a class of professional antigen-presenting cells with a unique ability to induce primary immune responses as well as immunological tolerance depending on the activation and maturation states of these cells. In future my research focus will be toward understanding the immunobiological processes to generate immunotherapeutic strategies employing DCs as tool for presenting antigens to T cells in such a manner to generate either immune responses or tolerance depending on the disease model. I am a theoretical physicist whose research interests span the areas of quantum information processing, quantum optics, foundations of quantum mechanics and research in physics education.Quantum Computing: Characterising quantum entanglement and tracing its exact role in quantum algorithms remains a challenging open problem. I have worked on issues related to quantum entanglement in the context of the Deutsch-Jozsa algorithm and Parity Determining algorithm, quantum dissipation and its control, optical schemes for quantum computers and NMR implementations of quantum information processors. My current research interests in quantum information include characterisation of bound state entanglement, role of entanglement in quantum computation, quantum crytography and physical implementations of quantum computers.Foundations of QM: I have also been working on connection of Bell's inequalities with non-classicality of states of the radiation field, formulation of Bell's inequalities for multi-photon sources, geometric phases in quantum mechanics, different approaches to the quantum measurement problem and in particular understanding weak measurements.Quantum Optics: My research in quantum optics includes signatures of non-classical behaviour for the radiation field such as squeezing, subpoissonian photon statistics and antibunching, and application of group theoretic methods in quantum optics.Physics Education: I am working on building new experiments for physics teaching which are designed around a certain conceptual theme. Experiments developed so far include random sampling of an AC source with a DC meter, a demonstration of Coriolis force, normal modes and symmetry breaking in a 2D pendulum using a single oscillator, and a quantitative study of ion diffusion. Research is pursued in four broad inter related areas of environmental science, namely \n",
      "\n",
      "Investigating the mixing state and shape of atmospheric particles and understanding its impact on the radiative properties of aerosol particles by microscopic techniques \n",
      "Understanding the effect of surface properties and the mixing state of atmospheric aerosol particles on rainfall formation and cloud lifetime through laboratory and field experiments \n",
      "Source identification and apportionment of aerosol particles based on single particle studies \n",
      "The effect of viable biological aerosol particles on air quality and health \n",
      "\n",
      "The main analytical techniques used by the group are:\n",
      "\n",
      "Single particle Electron Microscopy\n",
      "Measurements of particle number density and size distributions\n",
      "Collection and study of viable biological aerosol with an interdisciplinary approach\n",
      "\n",
      " \n",
      "Research objective:Aerosol particles in the atmosphere exert a strong influence on climate by interacting with sunlight. This interaction is responsible for the direct effect of aerosol particles on climate. Black carbon has a strong direct climate effect. Currently large uncertainties in the radiative forcing over India are caused by our poor understanding of the mixing state of black carbon, under ambient conditions. IISER Mohali will undertake fieldwork to close this gap in our current knowledge using electron microscopy based single particle techniques. The indirect climate impacts of aerosol particles are even more important in the Indian context for understanding the effects of aerosol on the hydrological cycle. This is because, for some given cloud water content, an increase in the number of particles which can act as seeds for cloud droplets (also called cloud condensation nuclei CCN) results in a proportional increase in droplet number at the cost of the droplet size, which decreases. Smaller droplets are less likely to precipitate and need to be transported to higher altitude, where freezing can occur. This leads to less frequent but more vigorous rainfall and hailstorms. We investigate the CCN properties of individual classes of particles both in the laboratory by studying ambient particles in an environmental scanning electron microscope and in the field by collecting particles inside clouds with a counter flow virtual impactor. My research interest in algebraic geometry includes study of moduli space of vector bundles, Geometric Invariant Theory and Classical Algebraic Geometry.For the last five years, I have been interested in some aspects of Combinatorial Commutative Algebra; namely, the study of free resolutions of monomial ideals, computation of their Betti numbers and relationship between their combinatorial and algebraic properties. I am a geodesist specialized in microwave remote sensing with broad interests monitoring Earth’s surface deformation phenomena using satellite geodesy. My research focuses on developing new methods and algorithms for the advancement of various satellite imaging techniques acquired by new generation Synthetic Aperture Radar (SAR) sensors. Main interest exploring Interferometric SAR (InSAR) capability by integrating with other remote sensing data for analyzing and mitigating impacts of various natural and anthropogenic hazard phenomena. Research focus My research has focused on applications of homotopical algebra to algebraic geometry. In recent years, I have worked in motivic homotopy theory, which attempts to adapt the methods of algebraic topology to algebraic geometry. Here, homotopies are defined in terms of the affine line instead of the unit interval. My work focuses on the A^1-connectedness of schemes. Our research focus is in synthetic inorganic and organometallic chemistry with heavy emphasis on small molecule activation and catalysis. We plan to develop ligand architectures which can support transition metals tailored toward unusual transformations relevant to energy and environment. In this respect, we are very interested in developing the catalyst system comprising cheap, abundant, non-toxic base metals instead of their popular heavier congeners. The groupsâ€™ endeavor will encompass synthesis, structural and mechanistic understanding (both experimental and computational approach) of the transition metal systems under low-coordinate environment. Students will learn a great deal of air-sensitive manipulations and will also be familiar with a wide array of spectroscopic and analytical techniques including X-ray crystallography, cyclic Voltammetry, multinuclear NMR, EPR, SQUID, MÃssbauer spectroscopies. The electronic structure of the targeted molecules will also be investigated taking guidance from computational investigation My current areas of research include labour market inequality, poverty and precarity, street vending, migration, decent work, producers collectives, labour in tea plantation, and small tea growers. I was engaged in some of the following funded research:\n",
      "\n",
      "‘Study on Labour Influx under the Civil Works of Assam Agribusiness and Rural Transformation Project (APART)’, funded by World Bank and ARIAS Society, Government of Assam. (2020).\n",
      "‘Decent Work for Tea Plantation Workers in Assam: Constraints, Challenges and Prospects’, funded by Oxfam Germany (2019).\n",
      "‘Value Chain and Decent Work: Study of Small Tea Growers in India’, funded by International Center for Development and Decent Work (ICDD), University of Kassel, Germany (2018). \n",
      "‘Multidimensional Poverty and Vulnerability Assessment Survey in Selected three Districts of Meghalaya, India’, funded by International Centre for Integrated Mountain Development (ICIMOD), Kathmandu. (2017).\n",
      "‘Financial Accessibility of Street Vendors: Cases of Inclusion and Exclusion’, funded by United Nations Development Programme (UNDP). (2011). My broad research interest lies in the physics of soft matter systems. The realm of soft matter comprises of a multitude of systems with important technological applications, with model examples ranging from colloidal suspensions, polymer gels and solutions, granular media to more complex systems of biological matter. Soft matter systems are characterized by the large length and time scales (compared to microscopic lengths) and the thermal fluctuations governing the dynamics of the constituent macromolecules. A wide range of collective phenomena resulting in complex structure and dynamics emerge at such mesoscopic length scales. The recent advancement in experimental techniques have allowed for characterization of such collective behaviors and also provide us with remarkable control down to single particle level. Particle chemistry has succeeded in producing colloidal particle with a definite control over its shape, size and interactions, such as patchy colloids of different shapes. While theoretical formulations of such emergent phenomena rely on the formulations of statistical mechanics out of equilibrium, a more microscopic insight can be gained using computer simulations, bridging the gap between theory and experiments. They serve as an indispensable tool to validate theoretical predictions and gain access to phenomena which are otherwise difficult to observe or measure in experiments. My own research activities strongly build on large-scale coarse-grained simulations of soft matter systems, with a goal to understand the rich physics at such mesoscopic length scales. My principal research interest is the investigation of materials with novel physical properties like superconductivity, ferroelectricity, ferromagnetism, multiferroicity etc. using scanning probe microscopy and transport spectroscopy at low temperatures and high magnetic fields. In superconductors, I study the nature of the superconducting gap(s) by point-contact spectroscopy and scanning tunneling microscopy at low temperatures. I also investigate the physics of the magnetic vortices in unconventional superconductors by magnetic force microscopy at low temperatures and in magnetic fields. Using these techniques one can also probe the ferromagnetic and ferroelectric materials.Multiferroics are the materials where more than one type of physical order exists (for example, ferroelectricity and ferromagnetism). I study the coupling between different order parameters in the naturally occurring multiferroics as well as in the artificial multiferroics where two different materials exhibiting two different order parameters are artificially integrated using a combination of thin film deposition and lithographic techniques. My primary research interest is Astroparticle physics wherein I study issues at the interface of particle physics and cosmology. This includes study of early universe and the late time acceleration which is believed to be driven by dark energy.At present I am working on theoretical and observational aspects of dark energy. Understanding dark energy has been the focus of a flurry of activity for more than a decade. This negative pressure component is required to drive the present day acceleration of the universe, a fact which is confirmed by various observations. Since dark energy is an unknown component of the universe, various models have been proposed to explain the acceleration of the universe. Given a large number of models: and the relative lack of understanding, it becomes important to constrain and if possible rule out various models using observations. A large amount of data and the quality of observations available makes this task possible. I work on obtaining constraints on the cosmological parameters, especially constraining present day value of dark energy and its variation with redshift.On the theoretical front, I investigate how dark energy perturbations affect the formation of structures in the universe. Pure distance measurements are insufficient to distinguish between models with the same background evolution. Evolution of perturbations, on the other hand, depends on the details of the model. I am interested in studying whether the dark energy perturbations enhance or suppress dark matter perturbations and how the effect can be measured observationally. DNA replication forms the basis of life. We are interested to understand how the macromolecular machinery  performing replication (i.e. the “replisome”) functions. While we know quite a bit about how the individual protein   components of the replisome work, how these proteins come together and catalyze replication as a whole is less   clear. On the other hand, these macromolecular interactions are essential for modulating different aspects of   replication such that genome duplication can occur in co-ordination with other cellular processes.    \n",
      "We are currently focusing our efforts to understand the molecular mechanism of replication in the organelle called   “apicoplast”. Apicoplasts are non-photosynthetic plastidsessential for the viability of pathogenic eukaryotes such   as  Plasmodium and Toxoplasma,causative agents of infectious diseases like malaria and toxoplasmosis. The   apicoplast replicates and maintains its own organellar genome by recruiting and assembling a specialized   machinery for this sole purpose. The essential nature of this organelle in the context of a pathogen presents   apicoplast replication as a potential target for drug development that could help address growing concerns over   the emergence drug-resistant pathogenic strains worldwide. However, at present we know very little about how this    molecular machine works. Using transient state enzyme kinetics, next-generation DNA sequencing and single   particle cryo-electron microscopy we are trying to decipher the molecular mechanism of the apicoplast replisome   and its implications in the larger context of pathogenesis. Every year, infectious diseases caused by emerging human pathogenic viruses such as influenza, dengue, HIV, hepatitis, Ebola etc. kill millions of people worldwide. The current strategy to treat most of the viral diseases is based on targeting the infectious agents. However, relentless emergence of drug-resistant viral strains and the lack of ideal vaccines stand as major impediments to combat the diseases effectively. A promising approach to circumvent the viral drug resistance related challenges is to target the host cell factors that the viruses manipulate with their molecular ‘hack codes’ for their entry and propagation. Therefore, to identify the new class of cellular antiviral drug targets, a thorough understanding of host cell machineries that provide support to the viral life cycle is essential. \n",
      " In our laboratory, we aim to advance our understanding of the infection mechanisms of two emerging human viruses, influenza and dengue. Employing variety of techniques including cell and molecular biology, high-content imaging, RNAi, biochemistry, genome editing etc., we seek to investigate the molecular underpinnings of the viral infection processes in the host cells. Using human induced pluripotent stem cell (iPSC) technology, we also aim to develop new cellular and organoid models to study influenza and dengue virus infections. With our approaches, we hope to shed new light on the cellular and molecular processes supporting virus infections, and ultimately use the knowledge to design novel therapeutic strategies. Galaxy Formation, Cosmological Simulations I broadly work in Euclidean Harmonic Analysis and its applications to PDE. This also includes study of hypo elliptic operators and the corresponding problems in Harmonic Analysis. I am also interested in studying convergence of Fourier integrals/ series. Recently I have also got involved in studying weighted / unweighted Lp estimates of bilinear operators. We use the power of C. elegans genetics to understand cellular stress responses. Our specific interests lie in understanding the stress responses in the protein secretory pathway (endoplasmic reticulum (ER) and Golgi apparatus). Because cellular stress responses integrate with the innate immunity, aging, and cellular-death pathways, the ultimate goal of our laboratory is to understand how cellular stress responses affect the health and lifespan of an organism.\n",
      "Our lab is also interested in understanding the mechanisms involved in controlling innate immune responses against microbial pathogens. Our previous studies demonstrated that C. elegans intestinal infection activates transcriptional programs to induce immune effectors and protective behavioral responses. Our current efforts involve understanding how intestinal infection brings about these changes.\n",
      "Finally, to understand how organismal homeostasis is maintained, our lab is interested in studying the endocrinal (signaling between different tissues) and neuroendocrinal (endocrine signals from the nervous tissue to another tissue) regulation of cellular stress responses and innate immunity. :\n",
      "Our group activities are highly interdisciplinary in nature. We study strong interactions between molecular transitions and vacuum field (photon) by placing molecules in an optical resonator or on a plasmonic nanostructure. This offers a unique way to control the energy levels of molecular systems while achieving delocalization through the photonic degrees of freedom offered by cavity or plasmonic modes. Such light-matter strong coupling and the formation of hybrid light-matter states has been extensively studied in quantum optics and condensed matter physics, but its consequences for molecular and material science is just beginning to be explored. Our main focus here is to understand the chemical and physical properties of such newly formed hybrid light-matter states, which are otherwise called as polaritonic states. Two of the major ongoing projects are mentioned below:\n",
      "\n",
      "\n",
      "\n",
      "Chemistry under strong coupling (STRONGchem)\n",
      "\n",
      "\n",
      "Strong coupling of light to a vibrational transition should affect chemistry because it offers a simple way to modify a given chemical bond and hence their reactivity landscape. Very recently we experimentally proved that a ground state chemical reaction can be modified by coupling molecular vibrations to vacuum electromagnetic field or zero point energy of a resonant IR micro-fluidic cavity. The focus of the current study is to understand in depth the influence of vibrational strong coupling (VSC) on the chemical reactivity of molecules to determine the underlying principles, to make it as a novel and useful tool for chemists.\n",
      "\n",
      "\n",
      "Light-matter strong coupling for material science (STRONGmatter)\n",
      "\n",
      "\n",
      "In this project, efforts will be made to study electron/energy transfer processes mediated by extended nature of the polaritonic states of electronically and vibrationally coupled systems. Here, more emphasis will be given for improving the efficiency of transport in molecular materials, both electron and energy transfer rates via the polaritonic states-new field of research coined as ‘polaritronics’. Such hybrid systems will be tested in a home built electro-optical work station for measuring their charge transport and optical properties simultaneously. As mentioned above, polaritonic states can be tuned in terms of their energy levels and understanding the dynamics of energy migration in such hybrid delocalized systems are of potential interest in light harvesting and biological systems. Current research interests:Ultrafast Quantum Dynamics of Atoms and Molecules:I am interested in dynamics of atomic and simple molecular systems exposed to shaped intense fs/as light pulses. The basic objective of my research has been two-fold: (i) to develop an understanding of the emerging phenomena when atomic/molecular systems interact with ultrafast light pulses, and (ii) to explore new quantum control scenarios of the fundamental photo-processes such as ionization, dissociation, electron localization etc.Stochastic nonlinear dynamics:I want to investigate phenomenon akin to Stochastic Resonance (SR) where an addition of noise (or disorder) into a nonlinear system can indeed improve its response.  Proper treatment of electron-correlation effects is very often necessary for quantitative (sometimes also for qualitative) description of electronic structure of atoms and molecules. Molecules with closed-shell electronic structure can be well-described by quantum chemical methods available in many program packages. Description of open-shell electronic structures commonly occurring in many chemical phenomena involving bond-dissociation, excited states and transition metal complexes generally requires more sophisticated methods known as multi-reference (MR) methods. My research focuses on development and applications of quantum chemical methods applicable for such situations.My current interest is on MR methods making use of the concept of internally contracted (IC) excitations. The IC excitations are known to be compact form of excitation manifold required to correlate a zeroth-order approximation to the full wave-function. Recently, I have been involved in the development of a multi-reference configuration interaction (MRCI) method based on IC excitations. We have demonstrated the efficiency and applicability of the new method to medium size molecules such as metallocenes and dioxygen bound mono and di-copper complexes with moderately large ligands. Currently, I am working to extend this method for the treatment of excited state potential energy surfaces and molecular properties. In near future, I plan to explore some of the possibilities for IC multi-reference coupled-cluster methods which have the potential to be more accurate.I am also interested in applying the standard as well as the newly developed methods to some interesting chemical problems involving reaction pathways and dynamics on excited potential surfaces. My interests are centred on Geometry, more specifically, on Algebraic Geometry and the study of Algebraic Cycles. Such studies have led me further afield to areas such as Homological Algebra, Algebraic Topology, Differential Geometry and Number Theory. In a different direction, problems of writing computer programs to carry out mathematical tasks as well as questions of a more theoretical nature about computation have also grabbed my interest from time to time.The primary questions on algebraic cycles centre around the Hodge Conjecture, Grothendieck's Standard Conjectures and their expansion in the work of Bloch and Beilinson. In my thesis I proved a case of the Hodge conjecture for a correspondence between K3 surfaces and abelian varieties. Developing some ideas of M.V.Nori, I was able to make concrete questions about hypersurfaces out of the general conjectures of Bloch and Beilinson; moreover, I could prove these conjectures for varieties of degree much lower than the dimension. In joint work with M. Green and P. Griffiths, we were able to show how the arithmetical aspects of the conjectures of Bloch and Beilinson are sharp.In collaboration with D. Ramakrishnan, there is an attempt to go beyond the conjectures regarding the structure of Galois representations that arise in the cohomology of algebraic varieties. We have conjectured that certain representations naturally arise in a special class of Calabi-Yau varieties and provided some evidence for this conjecture.Since 1993, I have been associated with the development and adoption of Free and Open Source Software (FOSS). I currently work with the international collaborative FOSS effort called the Debian Project. Research Area: Structure-Function Studies on Pore-Forming Protein Toxins.Pore-forming protein toxins (PFTs) are a unique class of membrane-damaging cytolytic/cytotoxic proteins, and they are found in a wide spectrum of organisms ranging from bacteria to humans. They exert their toxic effects by punching 'holes' in the target cell membrane, thus destroying the natural permeability barrier function of the cell membrane. PFTs are, in general, synthesized as soluble monomeric molecules, and in contact with the target cell membranes they form membrane-inserted oligomeric pores. However, in spite of sharing this overall general scheme, PFTs differ significantly from each other in the intricate details of their pore-formation mechanisms. A major mechanistic challenge associated with the membrane pore-formation process of the PFTs is elucidating the folding pathways that ensure thermodynamic compatibility of the soluble monomeric and the membrane-inserted oligomeric form of the toxin with aqueous and lipid milieu, respectively. PFTs highlight large-scale structural/conformation rearrangements in the course of their pore-formation process. Such structural alterations are mostly triggered upon interactions with the target membranes. However, it still remains unclear in most of the cases how the PFT molecular architectures sense the membrane-binding event and initiate subsequent structural/assembly readjustments toward forming membrane-embedded pores. Also, it is being appreciated in recent years that PFTs can induce a plethora of cellular responses in the target cells, exact implications and the underlying signalling mechanisms of which still remain obscure. The major research interest of my group is focused on studying the structure-function mechanisms of some of the prominent PFTs. The critical issues we address are:Mechanistic details of oligomeric membrane pore formation by the PFTs.Mechanism(s) associated with the cellular responses triggered by the PFTs. I am an NMR spectroscopist whose research is poised at the interface of Physics and Biology. My current research interests include NMR Quantum Computing, Diffusion Studies using Gradient NMR, NMR of Nanomaterials, NMR Methodology Development and Biomolecular Structure and Dynamics Determination.Quantum computing is a newly emergent field that exploits inherently quantum phenomena such as entanglement and parallelism to solve problems intractable on a classical computer. In NMR spin-1/2 particles are used to represent qubits, the basic units of quantum information.  Our research in experimental NMR quantum computing focuses on experimental implementation of novel quantum algorithms, qudit-based quantum computing, experimental characterization and detection of quantum entanglement, exploring quantum contextuality, and preserving fragile quantum correlations using dynamical decoupling sequences. The super-Zeno effect can be used to freeze evolution of quantum states. Our group has achieved the first experimental demonstration of this effect on an NMR quantum computer.  A qutrit is a three-level quantum system and is the simplest system to exhibit contextuality. A quantum algorithm was recently proposed to find the parity of a permutation using a single qutrit. Our group has demonstrated the first experimental exploitation of a single qutrit to achieve a computational speedup on an NMR quantum computer. Another recent work focuses on experimentally realizing a canonical form for general three-qubit states up to single-qubit unitaries. This form involves a nontrivial combination of Greenberger-Horne-Zeilinger (GHZ) and W-type maximally entangled states of three qubits. Our group focuses on using NMR-based metabolomics experiments in conjunction with multivariate statistical analysis to evaluate the effects of environment on metabolism of humans, plants and insects. While it is known that high body mass index (BMI) plays a key role in the evolution of type-2 diabetes mellitus, the exact mechanism of its contribution is still not well understood. Our group has used NMR-based metabolomics to identify several potential biomarkers for the onset of diabetes in subjects with a high BMI. The plant metabolome is sensitive to variations in the growth environment, as evidenced by metabolomic profiling. Changes in the levels of specific metabolites can be quantified via high-resolution magic angle spinning (HR-MAS) nuclear magnetic resonance spectroscopy and can help identify key metabolic pathways related to environmental stress. We have studied the metabolic response of wheat seeds to fungicidal stress during germination. A delay in germination and a decrease in percentage germination were observed for fungicide-treated seeds.  Extracts from the Carica papaya L. plant are widely reported to contain metabolites with antibacterial, antioxidant and anticancer activity. We have used NMR metabolite fingerprinting in conjunction with multivariate statistical analysis to analyze the metabolic profiles of papaya leaves and seeds in order to gain insights into their phytomedicinal constituents.Pulsed field gradient spin echo (PFGSE) pulse sequences are used to measure diffusion by observing the attenuation of the NMR signal. The degree of attenuation is a function of the gradient pulse amplitude and occurs at a rate proportional to the molecular diffusion coefficient. We have designed several 3D heteronuclear DOSY pulse sequences to estimate the individual diffusion coefficients of components of a mixture. A new 3D diffusion-ordered heteronuclear NMR experiment COMPACT-IDOSY (cross-polarization optimized multisite polarized accelerated time internally encoded diffusion ordered spectroscopy) has been designed and experimentally implemented on a mixture of flavonoids. The pulse sequence uses a cross-polarization mixing period and diffusion encoding gradients internally incorporated into the coherence transfer interval of a long-range heteronuclear correlation experiment. Substantial reduction in experimental time, good sensitivity and excellent resolution of signal overlap lead to the accurate determination of translational diffusion coefficients of individual components in the mixture. Another novel diffusion-edited 3D NMR experiment incorporates a BEST-HMQC pulse sequence in its implementation and provides a more sensitive and less time-consuming alternative to standard 3D HMQC-DOSY experiments.Cross-correlations are interference terms in multi-spin relaxation and contain inherent structural and dynamic information about the molecule. Our studies exploit cross-correlations between two dominant relaxation mechanisms: Chemical Shift Anisotropy (CSA) and Dipolar (DD) to gain information about molecular structure and dynamics in biomolecules and to distinguish between different structural forms of carbon nanotubes. Our work focuses on the characterization of the 19F CSA tensor in small molecules, through the combined use of quantum chemical methods and liquid-state NMR cross-correlated spin relaxation experiments. The results from ab initio methods and the liquid-state relaxation experiments match well. I have worked on the following research themes: (i) Algebraic classification of the isometries in hyperbolic geometries, and (ii) to classify the z-classes in classical groups.Classically, the isometries of the two dimensional real hyperbolic space are classified algebraically in terms of their traces. An interesting problem is to generalize this classification in the higher dimensions, as well as in the geometry of other rank one symmetric spaces of non-compact type. I have obtained satisfactory answer to this problem especially in (i) real hyperbolic geometry up to dimension 5 and, (ii) low dimensional complex and quaternionic hyperbolic geometries.Let G be a group. For x, y in G we say x and y belong to same z-class if their centralizers ZG(x) and ZG(y) are conjugate in G. The z-classes in a group give a partition of G, and they refine the partition of G into the conjugacy classes. R. S. Kulkarni has proposed that this notion may be used to make precise the intuitive idea of “dynamical types\" in any “geometry\", whose automorphism group contains a copy of G. When the z-classes provide a finite partition of the automorphism group, algebraically it gives another characterization of the isometries. In this sense the above themes (i) and (ii) are related from the geometric point of view. Apart from geometric interest, an interesting problem in its own right is to classify the conjugacy and the z-classes in a given group. We have classified the z-classes in hyperbolic geometries. A better understanding of the conjugacy classes in real hyperbolic geometry has also been obtained. Efforts are underway to understand the z-classes in orthogonal and symplectic groups over arbitrary fields. Some closely related problems are also worked out. Molecular Magnetism: Our group research work mainly deals with the synthesis and modeling of spin-Hamiltonian parameters in transition metal, lanthanide and radical-bridged metal complexes using both experimental and computational tools to understand their molecular magnetic behavior. Certain mononuclear/polynuclear complexes are capable of retaining their magnetization even in the absence of magnetic field which gives rise to magnetic hysteresis at a molecular level and an ability to act as magnets below their blocking temperature and these molecules are termed Single-Molecule Magnets (SMMs) or Single-Ion Magnets (SIMs). These SMMs have the intriguing potential applications in memory storage devices, quantum computing, and spintronic devices. We also focus on Single-Molecule Toroics (SMTs), which are defined as molecules that display a toroidal magnetic state which can potentially be used in multiferroic materials.\n",
      "We use X-ray diffractometer and SQUID magnetic instrumentation to characterise these magnetic complexes. To further understand the observed magnetic behaviour of synthesised molecules, we employ both density functional theory (DFT) and ab initio methods using various quantum mechanics programs. \n",
      "Heterogeneous catalysis: The main areas of catalysis are focusing on minimizing the environmental impacts while combusting fuels from the automobile engines. Our group is searching for the three-way catalyst (TWC) of a car exploits three reactions which include NO reduction, CO oxidation and oxidation of unburnt hydrocarbons. We are adopting computational approach to understand the CO and NO adsorption and to intensively seek the suitable metal oxide surface for the investigation of NO-CO reaction mechanism. We perform slab model calculations by spin polarized DFT methods using VASP program. We are keen to address the fundamental questions pertaining to genome organization and regulation using systems approach. The boom in the whole genome studies has created a wealth of data, which allows us to test our hypotheses using computational methods and follow up with appropriate experiments.In particular, we are interested in following questions: Why does the eukaryotic genome fold in a particular conformation, but not the other? What are the underlying evolutionary constraints? The present understating on this is too abstract. How does the chromatin mobility associate with the regulation of essential genomic functions like transcription, replication and DNA repair? Some of our recent analyses contradict the presumption that loci with higher transcription have greater mobility. How does the foreign DNA impact the 3D genome organization of the host cell? Does the viral DNA have preferred 3D interactions with host genome? How is the intrinsic noise regulated in the cells? Does it associate with higher order chromatin states? Does it have any role in cell fate decision during lineage specification? Does it contribute to persistence of persister cells and can it be modulated synthetically? My research interest includes study of Completely positive maps and semi-group of Completely positive maps (quantum dynamical semi-group) on C* and von Neumann algebras and understanding of quantum dynamical semi-groups by using the theory of Hudson-Parthasarathy quantum stochastic calculus. Recently we have some characterization result for non-commutative unitary processes with independent and stationary increments. In operator theory I am also interested in study of self-adjoint operators and their perturbations. Stem cells are the source of virtually all highly differentiated cells that are replenished during the lifetime of an animal. The critical balance between stem and differentiated cell populations is crucial for the long-term maintenance of functional tissue types. A microenvironment that is supportive of stem cells is commonly referred to as a stem cell niche. We have previously identified a hematopoietic niche within the Drosophila larvae. Due to the limited access of mammalian hemtopoietic niche this amenable system will allow us to unravel molecular regulation of stem cell progenitors and its relation with the niche. The power of Drosophila as a model organism is very well established, most notably its genetics and developmental biology. Taking advantage of these strengths our group aims to find novel genes and mechanisms controlling hematopoietic progenitors cell specification and differentiation. Given the high degree of conservation of blood development between Drosophila and the vertebrates, we hope that the ability to manipulate the function of such genes in Drosophila would aid in understanding function and dysfunction in human hematopoiesis. The primary research interests of my lab focus on studying the molecular mechanisms regulating the trafficking towards late endosomes and lysosomes. Lysosomes are membrane-bound organelles present in eukaryotes which receive and degrade macromolecules from the endocytic, autophagic and phagocytic membrane trafficking pathways. Besides the normal degradative function, lysosomes are involved in mediating various physiological processes, including cholesterol homeostasis, plasma membrane repair, antigen presentation and microbial killing.Recent studies have identified the role of small GTP-binding protein Arl8, a member of Arl (Arf-like) family of small GTPases in regulating lysosomal trafficking and phagosome-lysosome fusion. Arl8 is the first small GTP-binding protein shown to be localized primarily on lysosomal membranes. Upon GTP-binding, small GTPases like Arl8 recruit downstream tethering factors to intracellular membranes which permit vesicle docking and fusion with the target membranes. One such tethering complex recruited by Arl8 on lysosomal membranes is the HOPS (HOmotypic fusion and vacuole Protein Sorting)complex. We are characterizing the functions of different human HOPS complex subunits and the role of Arl8-HOPS interaction in regulating cargo trafficking towards lysosomes. To answer these questions we are using state-of-the-art techniques including confocal microscopy (both qualitative and quantitative imaging), flow cytometry-based assays, protein-protein interaction techniques including immunoprecipitations, GST-protein pulldown assays, purified protein-protein and protein-lipid interactions and yeast two-hybrid analysis.Given that many diseases result from defects in the lysosomal trafficking pathway and the normal functioning of the lysosome is critical for immunity against wide variety of pathogens, our research will answer a key question of how lysosomal trafficking and function is regulated by Arl8 and its effectors. Our research interests involve both theoretical understanding of fundamental physics from the point of view of quantum information theory and their possible applications in quantum technologies. These include exploring basic questions and their physically realizable applications, in particular, in thermodynamics and statistical mechanics, foundations of quantum mechanics, quantum optics and spin-systems, understanding quantum correlations between space-like separated systems and time-like separated events, quantum causality, information theory for indistinguishable particles and quantum field theories (QFT), and relativistic quantum information theory, e.g. black-hole information paradox.\n",
      "Quantum information theory (QIT) is a relatively new field at the cross-over of two of the biggest scientific developments of the last century: quantum mechanics and information theory. The ideas of quantum information science hold great promise for a technological breakthrough in case a quantum computer is ever built, or reliable long-distance quantum communication is eventually achieved. But QIT represents much more than that, which in factis our main motivation for pursuing research in this area. It is clear that we are obliged to consider quantum mechanics if we want to understand the fundamental limits for computation and information transmission using microscopic systems, the essential ingredients of information technology. Quantum theory turns out to be an unavoidable part of computer science and information theory. Conversely, we are also compelled to take into consideration such computational and information-theoretical aspects of quantum mechanics if we want to understand why quantum world behaves the way it is, or how we can use it in order to make useful predictions about physical phenomena and technological advancements.\n",
      "While much of the interest in this field is spurred by the possible use of quantum computers for code breaking using fast factoring algorithms, to the physicists interested in deeper issues, it presents an entirely new set of questions based on a radically different approach to understand the quantum world. This is exactly our goal - understanding physics as the flow of information by exploiting quantum information theory. My interests are broadly in topology and algebra.Algebraic topology can be described as the study of topological spaces by means of algebraic objects associated to them. I have been working on structural aspects of compact groups acting freely on manifolds, equivariant maps, free rank, index theory, and recently topological complexity.My interest in group theory has been in cohomology, automorphisms, (twisted)-conjugacy classes and other structural aspects of finite groups, generalized braid groups, Artin groups and Coxeter groups. Recently, I have also been thinking about mapping class groups of orientable surfaces.Knot theory is the study of embedded circles in the 3-space. I have been interested in various ramifications and extensions of classical knot theory. Specifically, I have been working on cohomological, computational and structural aspects of quandles and their more general avatars. These objects give strong invariants for knots and appear naturally in diverse areas of mathematics including group theory, solutions of the Yang-Baxter equation, Hopf algebras and symmetric spaces, to name a few. Dr. Mandip Singh is doing research in experimental quantum physics particularly on quantum nature of light, Bose-Einstein condensation and quantum entanglement. His research approach is mainly aimed at foundations of quantum physics and macroscopically entangled quantum states with applications for quantum information processing. More information and updates can be found on his website. www.mandipflora.com I am a behavioural ecologist and my research interests lie in the interface of ethology, ecology and evolutionary biology. I am primarily interested in understanding the ecology and evolution of acoustic communication in animals. Variation and complexity in acoustic communication, the numerous constraints on communication and how animals deal with these are the main drivers of my curiosity and my research largely revolves around these topics. The approaches used are a combination of field and lab-based experiments, empirical observations and theoretical modeling. My work is question-driven and I work on a range of study systems including insects, birds and mammals.PROJECTS Evolution of signal design: An astonishing variety of signals exist in the animal kingdom. One of the major aims of my research is to understand the structure of signals used by animals, the ecological contexts in which they are used, the constraints under which the animals must communicate and the evolutionary forces driving the communication system. \n",
      "Acoustic communication and sociality: Over the course of evolution, non-human social animals have achieved remarkable complexity in the organization of their societies and sophistication in communication. I am interested in understanding the social evolution of acoustic communication. A variety of animal societies, across different taxa, allow us to study this by examining interaction between animals that are mediated by acoustic communication.\n",
      " Biodiversity and conservation: Living in the tropics, we are blessed with a rich diversity of habitats, flora and fauna. We cannot turn a blind eye towards the rapid loss of biodiversity and degradation of habitats due to rapid urbanization. One of the major drawbacks of living an urban life is developing a disconnect with nature and an indifference towards issues related to loss of biodiversity, sometimes even entire ecosystems. Through my research I aim to develop non-invasive and whenever possible, inexpensive techniques to monitor biological diversity in order to concentrate conservation efforts to biodiversity-rich areas. I also want to create awareness about these issues through public outreach and nature education. We work in the broad area of Evolutionary Genetics. Our special interests lies in understanding the co-evolution between males and females in a species. In promiscuous species, the correlation for fitness between males and females is less than one. Thus, males and females can potentially evolve traits that increase their own Darwinian fitness but harm the fitness of the other sex. This leads to open-ended cycles of adaptation and counter adaptation - a form of intra-species Red Queen process - often called Intersexual Conflict. Such antagonistic co-evolution between sexes has been suggested to drive rapid divergence between populations in their life-history and behaviour and act as an engine for speciation. The long term goal of our lab is to understand the interplay between sexual conflict, sexual selection and life-history evolution. Specifically, we are working on Sexual conflict and Sexual Selection Evolutionary Ecology of immunity Life-History EvolutionWe use Drosophila melanogaster as a model system. Our approaches include Experimental Evolution, Phenotypic manipulations as well as gene expression and molecular techniques. Our techniques allow us to follow the process of adaptive evolution in real time across replicate populations. More importantly, we can assess fitness and related traits under conditions that are meaningful to the populations. My research interests are mainly in the areas of random processes with reinforcement and high-dimensional probability. In particular, I work on Urn models, consensus on networks, stochastic approximation, compressive sensing and high-dimensional estimation techniques. I am also interested in probability on trees, interacting particle systems, Markov chains and their mixing behavior. Quantum dynamics, atoms and molecules in strong laser fields, complex scaling calculations for metastable states of atoms and molecules My research is aimed at exploring and understanding the physical processes of relativistic jets and active galactic nuclei, responsible for broad and extreme range of observed behaviors through a study focused on broadband and high energy emission mechanisms, statistical exploration and characterization of broadband emission, connections between the jet and the central-engine (supermassive black hole and accretion-disk) using a multi-dimensional, multi-scale synergistic approach of data analysis, modeling, and simulations. INTERESTS: My main interests lie in understanding and engineering the manner in which globular proteins fold; in why (and how) they misfold; in what these misfolded forms do (to cause human disease) or can be made to do (e.g., conduct electricity); in what determines the thermodynamic and kinetic stabilities of the folded, native forms of globular proteins (especially those evolved to function in extremophile microbes); and in developing approaches through which the activities and functions of globular proteins and enzymes can be altered through rational and/or combinatorial mutagenesis.APPROACHES: I commonly employ (and also occasionally develop) preparative and analytical methods/approaches deriving from different forms of electronic and vibrational spectroscopy, mass spectrometry, biomolecular chromatography, electrophoresis, computation, calorimetry, microscopy, and recombinant DNA-based experimentation, and also certain other tools/techniques of organic and physical biochemistry.ET CETERA: In addition, I also love to dwell upon (and occasionally contribute to) current understanding of the mechanistic basis of regulation of gene expression, and the cellular and molecular basis of development. After completing my B.A., M.A. and PhD degrees from the USA, India and UK, respectively, I worked as a postdoctoral fellow at the Stone Age Institute (USA) and as a Fulbright Fellow at Deccan College in India. My main expertise and interest are in stone tool technology and comparing the South Asian evidence with other regions of the Old World. Currently, I am trying to understand human evolution in central India through the Narmada Basin Paleoanthropology Project which I am co-directing with the M.S. University of Baroda. The project’s main goal is to understand (from a multidisciplinary perspective) patterns of human occupation and adaptations in the region over the span of at least one million years and also search for additional hominin fossils. Through multidisciplinary Indian and international collaborations, the Narmada stone tool evidence will be integrated with the fossil vertebrate evidence and diverse datasets through paleoenvironmental reconstructions and geochronological applications. We are also applying GIS and other related tools for comprehensive documentation of sites as well as attempting predictive modeling of artifact and fossil occurrences. During the pursuit of my doctoral degree, I have also carried out research in the Siwalik Hills, work which is ongoing and involves targeting different types of paleoanthropological datasets to investigate a possible hominin presence in South Asia older than the Acheulean (i.e., older than 1.5 million years). If such evidence is recovered, it would confirm India’s role as an important eco-biogeographic corridor for faunal as well as hominin technological and biological dispersals from the western Old World to Southeast Asia around 2 million years ago. In addition to this Paleolithic research work, I am also analyzing microlithic stone tools from Harappan and Medieval contexts through collaboration in others’ projects. I am also particularly interested in flintknapping and utilizing the resulting stone tools to understand the roles of culture, function, technology and raw material selection, and the associated impacts on such materials as stone, wood and bone. Gromov initiated a study of finitely generated infinite group as geometric objects in early 1980's. Out of many different, and deep aspects of this philosophy he has written an about two hundred page note on (Gromov) hyperbolic groups. My current area of interest is in hyperbolic groups and properties of subgroups of hyperbolic groups.\n",
      "My PhD thesis was on a combination theorem of hyperbolic groups where we generalize earlier work of Mladen Bestvina and Mark Feighn. Bestvina and Feighn worked with a graph of hyperbolic groups and they provide sufficient conditions under which the fundamental group of the same is hyperbolic. I have generalized this result in a joint work with Mahan Mj to a complex of hyperbolic groups in some special cases. Recently, a joint work with M. Kapovich resulted in a new and more geometric proof of the theorem of Bestvina-Feighn.\n",
      "On the other hand, based on some earlier work of Mahan Mitra among others and inspired by some questions of Chris Hruska and Dani Wise I got interested in bounded packing properties of subgroups of finitely generated groups.\n",
      "*Algebraic groups and Invariant theory*: Before my Ph D, I did some work on algebraic groups and invariant theory jointly with S. Kannan and S. Pattanayak. 1. Kinetics of Phase Separation in active and passive matter systems.2. Dynamical Properties of Granular Systems: Pattern formation, Rheology, and Kinetic Theory. 3. Mechanical Properties of Amorphous Systems: Plasticity, Yielding, and Anomalous Elasticity. Solid-state nuclear magnetic resonance (SSNMR) is the application of NMR spectroscopy to systems that are solids, nearly solids, or strongly anisotropic. With recent advancements in technology and improved understanding of nuclear spin interactions and their behavior in static/oscillating magnetic fields, NMR spectroscopy has emerged as a powerful tool for characterizing molecular structure at atomic level. In particular, the emergence of solid-state nuclear magnetic resonance (NMR) spectroscopy as an important structural tool in the fields of chemistry, physics, materials science, and biology is quite impressive. Nevertheless, SSNMR is still a developing field and methods towards complete structural characterization are just emerging. To realize its potential, constant improvements and development of new NMR methodology (both on the theoretical and experimental front) with the available state of the art instrumentation remains vital. \n",
      "Our research group here in Mohali is primarily focused on developing theoretical methods based on time-dependent quantum mechanics for both designing new SSNMR experiments and building models for quantifying NMR experimental data. Besides its implications in chemistry and structural biology, SSNMR also serves as a test-bed to investigate/understand some of the founding principles of quantum physics. My research group is focusing on the following areas: \n",
      "\n",
      "Organocatalyzed enantioselective transformations using chiral N-heterocyclic carbene (NHC) as a catalyst \n",
      "Development of a new class of chiral NHC-metal complexes and their applications in CH activation chemistry \n",
      "Total synthesis of natural and unnatural biologically active complex molecules \n",
      "Synthesis of unnatural small peptides and their applications in organocatalysis. Integrating metabolism with other cellular processes provides the robustness enabling bacterial survival in diverse environments, key to their success as commensals, pathogens and industrial workhorses. Research in my laboratory is focused towards understanding the interconnections between metabolic pathways and their integration with stress responses in the model microbe, E. coli. In this direction, my lab utilizes genetic, biochemical, and systems approaches to identify and characterize novel players and networks in metabolism. Current lab projects focus on two major areas:\n",
      "Systems level analysis of long chain fatty acid metabolism: Long chain fatty acids (LCFAs) are used as a rich source of metabolic energy by several bacteria including important pathogens. Since LCFAs also induce oxidative stress, which may be detrimental to the bacteria, it is imperative to understand the strategies employed by bacteria to counteract it. In this regard, by performing a high-throughput quantitative genetic screen on LCFAs and a detailed follow-up analysis of the oxidative stress response players identified from the screen, we are currently unraveling the mechanisms by which bacteria combat LCFA-induced oxidative stress. In addition, our screen has identified several uncharacterized genes and genes of known functionality but no previous linkage to LCFAs to be required for successful growth on LCFAs suggesting missing players and networks in LCFA metabolism thus opening new areas of investigation. \n",
      "Understanding crosstalk of sugar acid metabolism with other metabolic pathways: E. coli utilizes a variety of sugar acids as carbon and energy source, which has been implicated in its colonization in the mammalian gut. From our genetic studies, we have identified a putative transcriptional repressor of sugar acid metabolism to be required for successful growth on fatty acids and few additional carbon sources. We are characterizing the transcriptional repressor and investigating whether there is a crosstalk between metabolic pathways of the above-mentioned carbon sources to prioritize sugar acid utilization. My research interests are in developing simple models of complex biological processes and study them by using tools of statistical physics like generating functions, exact transfer matrix, Monte Carlo and Brownian Dynamics and Molecular Dynamics simulations. PresentlyPresently, I am working on the following problems:   (1) Dynamical transitions in unzipping of double stranded DNA and adsorbed polymers  (2) Polymer translocation through a narrow pore  (3) Physics of Active matter Retinal damage is one of the most common causes of blindness in the modern world. About 5% of the world population suffers from retinal damage at some time point in their lifetime. Though we have made remarkable progress with regard to the treatment of retinal damage, efficient strategies for repairing damaged retina still remains elusive. Various mammalian, avian and piscine animal model studies have revealed the potential of a cell type called Muller glia (MG) in the restoration of vision after an acute damage in the retina. However the piscine model zebrafish offers the maximum potential in unraveling the mystery of retinal regeneration compared to its mammalian or avian counterparts. Though the retina regeneration in zebrafish is a known fact, the exact mechanism remained largely unknown. The success of implementing the lessons learned from lower vertebrates into human-benefit and treatment exclusively depend on unraveling the mystery of retinal regeneration. Apart from this, the retina being part of central nervous system, the regenerative potential of the neurons in the retina can give immense clues about various signaling mechanisms that lead to restoration of neural circuitry after an acute injury.My research interests are to understand the molecular mechanisms underlying retina regeneration using zebrafish model. Though the cellular and molecular basis of this remarkable phenomenon remains largely unknown, recent studies have suggested the detrimental role of various genetic factors like hb-egfa, ascl1a, lin28, and pax6b in fish retina regeneration. However, the wealth of knowledge is not sufficient to take this to the next stage, where humans can get benefited out of this. In this scenario, I am working on signaling pathways like wnt, notch and hedgehog to assess their impact on fish retina regeneration. I am also working on a few selected candidate genes like pluripotency inducing factors like sox2, oct4, nanog, klf4, cMyc and lin28 involved in retina regeneration. :\n",
      "Our research group is multi-disciplinary in nature and situated at the interface of Organic, Physical and Material Chemistry. As a Polymer Chemistry research group, our motto is to design and synthesis of new functional polymers for targeted applications. We endeavour through development and adaptation of synthetic methodology along with extensive physical characterization to achieve our research objectives. Our major research activities are shown below. \n",
      "(A) Functional polypeptides\n",
      "Having the same backbone as proteins, synthetic peptides make interesting biomaterials. Polypeptides are often synthesized in one step using controlled ring-opening polymerization (ROP) of N-carboxyanhydride monomers (NCA), in contrast to discrete oligopeptide synthesis (SPPS). Among them we are particularly interested with polyprolines.\n",
      "(B) Plastic multiferroic materials\n",
      " \n",
      " Magnetism and ferroelectricity are two key components for various technological applications and which are generally mutually exclusive in nature. However, it has been suggested that intimating those two effects could leads to an interesting cross-coupling phenomenon. In this context, our approach will be to organize the electric and magnetic dipoles on a foldamer scaffold to achieve the multiferroic properties in a plastic material.\n",
      "(C) Folding of Periodically-grafted amphiphilic Polyamides\n",
      " Through-bond and through-space electron transport are two ways in which electrons can be transported in a material. Conjugated oligomers/polymers and their ability to transport electrons through bonds have been extensively used in optoelectronics applications for decades. However, in biology, long-range electron/charge transport largely relies on the spatial organization of π-surfaces such that strong electronic coupling between the frontier orbitals (through-space) of adjacent molecules takes place during molecular recognition in DNA, excitonic coupling in photosynthesis, etc. Electron transport through space requires higher-order structures such as proteins or DNA double helixes. It is for this reason that we strive to design new materials for electron transport through space. Weather and Climate Modelling Group (WCMG): \n",
      "Atmospheric processes and climate change take place on a wide range of spatial scales from global to regional and local scales. Our group aims at analyzing, simulating and predicting the regional weather and climate aspects including extremes over India using high-resolution regional climate models. The high-resolution information at regional and local scales would be beneficial for climate assessments, the impacts of climate change on human and natural systems and to develop suitable adaptation and mitigation strategies at the national level. We focus to better understand the regional/local weather and climate phenomena, their variability and changes, through dynamical downscaling and analysis of observations. The members of the group would also be focused on the improving seasonal climate forecasts, cloud-resolving modelling of mesoscale convective systems, future projections of extremes at the regional and local scale in the Weather Research and Forecasting (WRF) model.  The group research activities at IISERM also involves in the application of data assimilation to improve the regional weather extremes which we are working on in close collaboration with King Abdullah University of Science and Technology (KAUST). Identification and characterization of gene networks involved in stem cell niche establishment in Arabidopsis shoot apexShoot apical meristem (SAM) of higher plants harbor pluripotent stem cells at their tip. Normal development of a plant depends upon the regulatory networks that control balance between stem cells specification and differentiation. Currently, research in our lab focuses on building a comprehensive transcription factor regulatory network for Arabidopsis SAM stem cell niche. Optimal performance of irreversible thermal machines; Quantum thermodynamics. I am an evolutionary geneticist by training but my interests range from molecular ecology to functional genomics. I am particularly interested in the evolution of arthropod-endosymbiont interactions with a special emphasis on Wolbachia, evolutionary genetics with the parasitic wasp Nasonia as the model system and molecular evolution and functional genomics of arthropod-bacterial symbiosis. I am also interested in phylogeography with particular emphasis on Indian taxa. The biological questions that I seek to answer often involves the use of various techniques ranging from field work to genomic tools. If students interested to join my lab have any interesting projects and ideas within and without the above areas of study they are encouraged to contact me directly. Presently the two broad research areas are:\n",
      "Symbiosis: Wolbachia is one of the most abundant endosymbionts of the world and infects majority of terrestrial arthropods. They also cause various reproductive alterations in their hosts like cytoplasmic incompatibility, feminization, male-killing and parthenogenesis. I am interested in various aspects of Wolbachia biology like its abundance in Indian insects, the genetic basis of these reproductive alterations, evolutionary history of host-bacterial symbiosis, etc.\n",
      "Evolutionary Genetics: The parasitic wasp Nasonia is an excellent model system for the genetic dissection of complex traits. These four species are relatively easy to interbreed and also have a wealth of molecular markers along with sequenced genomes. I am interested in investigating the genetic basis of various biological traits using Nasonia as a model system. My earlier and ongoing research projects explore themes in informality, infrastructure technologies, urban history, Marxism, and governmentality studies in late-colonial and post-colonial India. I work on the trajectories of capitalist accumulation and urbanization in twentieth-century Calcutta, economic informality, postcolonial statecraft and its relationship with knowledge, social policy, rent and tenancy relations in South Asian cities, and mass political formation under popular sovereignty and neoliberalism. \n",
      "Currently, I am working on two book projects: \n",
      "1. Governing Calcutta in the Twentieth Century: Territory, Property, Mobility\n",
      "2. State, Democracy, and Development in India, 1947-1967\n",
      "Teaching\n",
      "HSS602: Social Theory: Concepts and Debates\n",
      "HSS634: Themes in Infrastructure Studies\n",
      "HSS637: Reading Records\n",
      "HSS642: Science and Society  Our research primarily centres on the following areas:\n",
      "- Development of stereoselective reactions with particular emphasis on  (i) Brønsted and Lewis acid catalysis, (ii) Asymmetric organocatalysis involving small molecule amines and phosphines, (iii) One-pot cooperative catalysis.\n",
      "- Development of sustainable and atom economic reactions.\n",
      "- Application of aforementioned strategies in the total synthesis of architecturally complex bioactive natural products and pharmaceutically important compounds.\n",
      "- Emphasis on cultivating medicinal chemistry aspects and industry-relevant research.The new synthetic methodologies are designed to incorporate the concepts such as asymmetric synthesis, diversity oriented approaches, green and sustainable chemistry, step and atom/pot We are an interdisciplinary research group whose primary interests are to explore and understand science that is happening at the nanometer regime and within picoNewton (pN) to nanoNewton (nN) force range. We use both experimental techniques, like Dynamic Force Spectroscopy, Forster Resonance Energy Transfer, Time-Resolved Emission Spectroscopy etc. for single molecule and ensemble measurements as well as computational approaches like Molecular Dynamics and Steered Molecular Dynamics. We utilize our knowledge of chemistry and instrumentation on biological phenomena that are controlled by mechanical forces. Mechanical forces play major role in biology, e.g., in protein synthesis, cell division, embryonic-development, cell-adhesion, wound-healing etc. Here a mechanical force acts as a stimulus to transduce a signal through mechano-responsive proteins. While for most cases, the proteins that orchestrate these mechanotransduction is known, very little is known about how forces regulate the chemical and physical properties of the system for transduction. Our research therefore aims to:(1) Understand the biophysical properties of mechano-responsive proteins in hearing: In hearing, sound waves first generate oscillations in the inner-ear fluid, which thus deflect inner-ear hair-cells and stereocillia. The stereocilia are linked together by a pair of proteins at their tips. Upon deflection, these interacting proteins at tip-links are elastically stretched, which leads to the opening of ion-channels in stereocillia. Open channels can now allow ions to move-in and change the polarity of the cells. Nerve cells attached to hair-cells thereafter sense this electrical change that is conveyed to the brain. The brain interprets this as sound. We are particularly interested in (a) understanding the binding kinetics of the proteins forming tip-links against tensile force and their reproducibility, (b) measuring the molecular elasticity of these proteins etc. We will further extend these studies with mutant proteins leading to deafness or Usher Syndrome.(2) Develop mechanically activated smart polymers: We often find that biology has mastered and engineered the non-covalent interactions to convert polymers into smart materials. In order to develop such smart mechano-active materials, quantitative understandings of non-covalent weak interactions are essential. Our research goal here is to quantitatively estimate the magnitude and kinetics of pi-pi, pi-cation and pi-anion interactions and at the single molecule level and design a rule of thumb. The better understanding of such pi-interactions would help us in rational drug design and lead optimization in medicinal chemistry. This study will also open up new directions in protein-folding related issues and new dimensions in supramolecular & host-guest chemistry. Diabetes and metabolic disorders significantly advance vascular complications such as cardiovascular disease, diabetic wound healing and retinopathy. Emerging evidence suggest that epigenetic factors and key long non-coding RNAs (lncRNAs) triggered by changing lifestyles and environment are new players in these pathologies. However, the epigenetic mechanisms involved and the role of lncRNAs in diabetes and its complications are still not well understood. Das lab at IISER-Mohali will investigate the role of epigenetic regulators (enhancers/super-enhancers and lncRNAs) in VSMC and macrophage function, that are critical players in major diabetic vascular complications.Das Lab will focus on diabetes wound healing a type of diabetic complication. Diabetes wound healing is highly prevalent in our community and a major cause of morbidity and mortality. Impaired wound healing due to diabetes can lead to chronic wounds and amputation of the foot. Furthermore, currently available drugs for these disorders are not fully efficacious in many patients. Macrophage dysfunction is an important feature of diabetic wound healing characterized by altered M1 and M2 populations through the action of TNF-α and TGF-β1 respectively. Although biochemical mechanisms involved in diabetic wound healing have been studied, contributing epigenetic mechanisms are not well known. We will investigate the functional roles of enhancers/SEs and lncRNAs in diabetic wound healing-associated gene expression and phenotypes in macrophages. We will use experimental as well as computational methods to address those questions. The ultimate goal is to uncover enhancer/SE and lncRNA-dependent mechanisms for TNF-α and TGF-β1 actions in monocytes and macrophages that can lead to identification of new therapeutic targets for diabetic wound healing.\n",
      "Das lab is also collaborating with Dr. Rama Natarajan’s lab in the area of diabetes-induced phenotypic switching of vascular smooth muscle cells and its implications in Cardiovascular disease by utilizing state-of-the-art multi-omic approaches including single-cell transcriptomic and epigenomic analyses. Cellular and Molecular Mechanisms of Protein Trafficking in the Central Nervous SystemAn essential requirement for maintenance of homeostasis in any living organism is the ability of cells to sense the external environment and, in the case of multicellular organisms, for cells to communicate with each other via mediators released into the extracellular milieu. In the brain, a variety of neurotransmitters and neuromodulators act on target receptors to activate cellular signaling events which transfer information from one cell to the next. Normal signaling depends on accurate localization of such receptors in specific regions of the cell, and the process of receptor trafficking plays a critical role in controlling this localization. Despite the obvious significance of this process, we still know very little about the protein machineries that mediate trafficking of neurotransmitter receptors in the brain, the regulatory events that control these protein machineries, and the functional consequences of these regulatory events. Research in my laboratory is directed to elucidate the cellular and molecular mechanisms that regulate the trafficking of (a) ionotropic glutamate receptors and (b) G-protein coupled receptors (GPCRs) in the central nervous system. These trafficking events are thought to be critical for various physiological processes. For example, glutamate receptor trafficking is believed to be involved in virtually all forms of experience-dependent plasticity including learning and memory. On the other hand, GPCR trafficking is believed to play crucial role in various physiological processes as well as in various neuropsychiatric disorders. My laboratory would employ multi-disciplinary approaches ranging from biochemistry and molecular biology to cell biology, imaging, and mouse genetics to address these questions. Medical Physics Lab\n",
      "Medical Physics and Bioengineering is one of the leading interdisciplinary research area where, particularly our lab design and develop advance medical instruments and algorithms to address the health related problems such as angiogenesis in solid cancer, arthritis, inflammation etc. In that path, we work with soft radiation for example EM wave, ultrasound, optical signal,hybrid microscope, electrical current etc and model the tissue functionality for diagnosing diseases in living subject. The Lab uses all kind of laser(CW,pulsed), electronics, RF techniques, ultrasound transducers, high computing system for solving PDEs, inverse problem etc. If your interest and skills sets are aligned with our research activities then please do not hesitate to write us your willingness. My research interest is in the area of solution synthesis of functional inorganic materials especially oxides both in the form of bulk and thin films and exploring their application as heterogeneous catalysts in biodiesel synthesis, components of solid oxide fuel cells, visible light activated photocatalysts for hydrogen generation by splitting of water, ceramic pigments and magneto-resistant materials. The synthetic techniques of interest to me are Hydrothermal, Regenerative Sol-Gel, Matrix Trapping and Decomposition Process. Emphasis is on the development of synthetic techniques which are environment/eco-friendly and have the potential for being scaled up for large scale industrial production. Proteins are the workhorses of the living systems. Traditionally, protein function was thought to depend on a unique well-defined 3D structure that is encoded by the amino acid sequence. However, current investigations have revealed that a large fraction of the proteome consists of polypeptide segments that lack a well-defined structure under physiological conditions. They belong to a distinct class of proteins termed as intrinsically disordered proteins (IDPs) that challenge the tenets of the traditional structure-function paradigm. The intrinsic disorder in the proteins allows the complex organisms to carry out multiple functions from the same proteins by adopting different conformational states. However, the disorder-to-function relationship is poorly understood. Additionally, dysfunction of many IDPs is associated with a range of deadly diseases such as Alzheimer's disease, Parkinson's disease, Amyotrophic lateral sclerosis (ALS), frontotemporal dementias (FTDs) and cancers. The Mukhopadhyay lab utilizes a diverse range of approaches involving biophysics, biochemistry, chemical biology, cell and molecular biology, and advanced single-molecule and ultrafast spectroscopy to gain molecular insights into the conformational ensemble and dynamics, the protein hydration water, liquid-liquid phase separation, aggregation and amyloid formation from various IDPs containing low-complexity and prion-like domains. These studies are beginning to illuminate the unique molecular insights into the pivotal functional and pathological aspects of phase transition of IDPs. Conversion of sunlight into useful forms of energy through photovoltaics is one of the most viable and attractive alternative to address the global concerns of energy supply. In this respect, development of new organic materials for organic photovoltaics (OPV) as well as (opto)electronic applications has been an important and rapidly emerging area of research. \n",
      "Among the many classes of light harvesting (LH) materials,   Π -conjugated organic small molecules, dyes and pigments have garnered great attention with regard to their high absorption cross-section, facile optical and redox tunability, synthetic versatility, high charge carrier mobilities, low-cost and the possibility of their roll-to-roll processibility. Along these lines, research in our group will be aimed at developing new LH systems based on  Π -conjugated molecules/dyes for (opto)electronic applications along the following themes:\n",
      " \n",
      "1. Donor-acceptor (D-A) systems (in configurations such as D-A-D, A-D-A, D-A-A etc.) for efficient photoinduced electron transfer (PET). Major emphasis will be given on their photophysics, charge carrier mobilities and electronic properties in order to assess their suitability in photoconduction for OPV devices. \n",
      " \n",
      "2. Covalently connected multichromophoric systems (based on squaraine, DPP, rylenes, BODIPY, isoindigo and few other classes of molecules with complementary absorption) with the aim of achieving efficient Förster resonance energy transfer (FRET). Design strategies would involve the use of dendritic structures where different chromophores can be positioned with favorable orientations for FRET. Eventual aim would be to achieve enhanced OPV performances compared to conventional donor-acceptor blends. \n",
      " \n",
      "3. Covalently connected D-A systems with variable spacer unit(s) will be designed for twisted intramolecular charge transfer (TICT), aggregate induced emission (AIE) and/or thermally activated delayed fluorescence (TADF). Fundamental structure-property relationships of these materials will be deduced through structural and optical characterization. Eventually, the application of some of the screened materials in fabrication of organic light emitting diodes (OLEDs) will be explored.\n",
      " \n",
      "4. FRET and PET properties will be tuned based on DFT computed optical properties of separate donor (energy/electron) and acceptor (energy/electron) units and this will form the basis for the synthesis of new LH materials. In order to understand the dynamics of various photophysical processes, ultrafast spectroscopic studies would be performed in collaboration. \n",
      " \n",
      "Research in our group will involve extensive organic synthesis and structural characterization of new molecules/materials. Furthermore, the work will involve theoretical DFT and TD-DFT calculations, cyclic voltammetry, optical spectroscopy such as UV/Vis, fluorescence, emission lifetimes, fluorescence anisotropy, temperature dependence and internal quantum efficiency (IQE) measurements. I am a theoretical physicist working in the field of open quantum systems, quantum information theory, quantum optics, condensed matter systems and mathematical physics. My research interests are directed toward understanding the possibilities and limitations of photonic quantum information processing and devising methods to control the effects of noise therein. This would allow us to realize scalable and universal quantum computing devices. I have developed various methods to perform quantum teleportation in the orbital angular momentum states of a single photon. I have devised implementation schemes to realize one- and multi-dimensional quantum walks using classical optical setup. Currently, I am working on simulating quantum algorithms such as Shor's algorithm using optical systems. I am also working on Quantum memories. A quantum memory is a device which is capable of storing and reemitting a single photon on demand. I am interested in studying the effect of the thermal and phononic bath on the efficiency of the quantum memory which is realized in various systems.  Major Research Projects:Organometallic Chemistry of Main Group Elements and Cationic Organo-aluminum Complexes: Chemistry of highly reactive organo-main group ionic compounds and late transition metals supported by bulky iminophosphonamide ligands with N2P or N,3P2 skeleton is the major emphasis of this research. Recently discovered series of cationic aluminum complexes exhibit very strong Lewis acid character and have been useful in promoting/catalyzing organic reactions mediated by Lewis acids. The multiply bonded terminal boron-chalcogen complexes have been important breakthrough in field.Low Valent Complexes of Group 13 and 14 Elements: Synthesis of novel germylene, stannylene chelate compounds stabilized by bis(phosphinimino)amide is under investigation. The successful synthesis of Ge(II) and Sn(II) compounds has opened up a new opportunity to explore not only reduction of these divalent species (to prepare zero valent species) but also the oxidation reactions (to new interesting derivatives of the unknown tetravalent metal centers).N-heterocyclic Carbene Complexes of Transition Elements for Catalysis: We have synthesized novel pincer type/tripodal N-heterocyclic carbenes bearing chalcogens in their backbone. Transition metal complexes of these carbenes are being investigated for their structure and reactivity. Recently, we have also discovered that Au(III) and Pd(II) complexes prepared in this project show excellent activity for C-H activation in aromatic rings and promising C-C coupling reactions.Inorganic Macrocycles and Cryptands: Synthesis of phosphazane based and boron-amide based organic-inorganic hybrid macrocycles and cryptands are major theme of this research area. We have successfully assembled a series of new pyridinophanes and cryptands. Study of host-guest complexation and use of cations, anions or neutral molecules as templates in assembling macrocycles and cryptands are important aspect of our work. The phosphazene templated macrocyclic arrangement of NaCl is a landmark in this area. My research focus is on theoretical and computational study of strongly interacting and disordered electron systems. Many of the transition-metal compounds belong to this catagory. Some examples are, the Cu-based high-Tc superconductors, the oxides of Mn, Co, Ni, etc., and the recently discovered Fe-based superconductors.A microscopic understanding of the complex phenomena displayed by some of these systems is invariably obtained in terms of the relevant microscopic degrees of freedom, such as charge, spin and orbital. Taking into account the crystal structure, and the electronic structure at various levels of sophistication, one arrives at an effective Hamiltonian.Typically, such model Hamiltonians are rather complex with cross couplings between charge, spin, orbital and lattice variables. Moreover, the quantum many-body nature and the presence of disorder adds to the complexity.Therefore, to a large extent one has to rely on computational techniques to gain insight into the physics of such models.\n",
      "\n",
      "Some of the topics that I am working on at present are:(i)   topological magnetic textures in spin-orbit coupled systems(ii)  ordering in low-dimentional frustrated quantum magnet(iii) unconventional superconductivity in extended attractive Hubbard models. Major Research Projects:Design, Synthesis and Characterization of Soft Materials:   The approaches of our laboratory towards functionalized soft materials involve design, synthesis, characterization and functionalization of Liquid Crystals (LCs), search for new cores that form LCs, hybridization of different types of LCs that may form new LC phases and so on. An emphasis on LC polymers having electrical and optical properties will be studied for potential applications to molecular nano-devices.\n",
      "Metal Ion-Based Chemical Sensing: The goal of this research is to develop principles based on surface-driven orientational ordering transitions in thermotropic LCs that will enable design of chemically-responsive soft-materials. The ultimate goal will focus on development of science and technology that may, in the long term, enable the design of materials capable of responding to their chemical environment.\n",
      "Nanoparticles in liquid crystals and liquid crystalline nanoparticles:   The main scientific objective in this project is to study and understand the soft self-assembly behaviour of nanomaterials functionalized with organic groups (here LC molecules) to provide a new resource of materials for applications in nanosciences.\n",
      "Liquid Crystal based Biosensors: Development of new principles which offer the basis of general and facile approaches to the building of new sensing platforms that can report on the presence/organization of biological species at aqueous-LC interfaces.\n",
      "Nano-channels for efficient Proton Conduction:   Synthesis of new LC phases having a balance between the required supramolecular organization of proton-conducting groups and the flexibility for molecular reorientation. These systems will provide a viable platform for developing efficient proton transporting materials. My research interests lie mostly in the area of Operator Theory. I focus on problems related to linear operators on quaternionic Hilbert spaces, Numerical range of matrices with quaternion entries, pseudo S-spectrum, Study of completely positive maps as well as local completely positive maps and related questions from dilation theory. How plant root development and growth is influenced and regulated by environmental signals is a major research question of our group. In particular, we focus on the effects of nutrient starvation, high temperature, cold temperature, salinity and drought on root system architecture (RSA) using Arabidopsis plants. We are applying experimental [forward/reverse genetics approach, transcriptomics approach, biochemical techniques, high-throughput phenotyping, Genome-Wide Association Studies (GWAS) and live imaging] and computational approaches to answer this question. As stress signalling pathways are evolutionary conserved, we also aim to translate knowledge gained from Arabidopsis to wheat, tomato and rice. \n",
      "Finding genes or regulatory systems that modify root development might have adaptive value and has various implications for biotechnology and agronomy. In particular, the ability to generate plants with different root growth has great potential for adapting plants to specific habitat.  I am interested in the topological properties of real algebraic curves, especially real algebraic knots. Induction of an adaptive immune response and its maintenance in the memory phase forms the basis of lasting protective immunity against infectious diseases and provides clue for successful vaccination. After receiving help from CD4 T cells, pathogen-specific CD8 T cells are appropriately activated to control the spread of intracellular pathogens such as viruses. Animal models are used to investigate host-pathogen interaction. For studying the function and differentiation of adaptive T and B cells, one has to secure sufficient number of antigen-specific cells in naive state but in a normal host the frequency of T cells specific to any given antigen is very low and frustrates attempts at isolating such cells in meaningful numbers. In our laboratory we aim to understand the function and differentiation of CD8 T cells during infection with endemic pathogens such as dengue virus, Chikungunya virus and protozoan parasites such as Plasmodium in addition to herpes viruses, the latter being the most successful pathogen. Employing various molecular and immunological approaches, we try to understand the host-pathogen interaction. We are also putting efforts in developing novel animal models to study immunity and immunopathology during viral infections. We welcome creative colleagues who are interested in learning and contributing to the advancement of immunology to join our group. In the post-genomic era, there have been great advances in high-throughput experimental studies. These provide valuable observational data, however, integration of such data will provide a holistic understanding of cellular processes, which usually involve complex dynamic interaction of biological networks. The focus of our group is the development of computational approaches to integrate and analyze biological networks with the long-term applications in the discovery of drug targets and diagnostic markers.We are interested in generation of comprehensive metabolic pathways by metabolic reconstruction approaches and including new reactions predicted for promiscuous enzymes. For reaction prediction, we will describe each reaction with a molecular descriptor, which can operate on substrate compounds to result in product compounds. A promiscuous reaction is predicted if the reaction operator results in a chemically valid product compounds. The resulting expanded metabolic reaction network will be investigated for the alternative metabolic pathways or for novel bio-transformation pathways. We are also interested in studying the evolutionary perspective of metabolic pathways by aligning these from various organisms and investigate emergence of their metabolic capabilities.In approach to predict new reactions, a key assumption is that a promiscuous enzyme can accommodate compounds similar to its cognate substrate. To assess and further predict these, we will develop a combined sequence-structure and data mining approaches to predict ligand protein interactions. These prediction is based on reasoning that compounds sharing some similarity should also share targets, and targets sharing similar ligands should have similar binding sites. In machine learning approaches, we will derive conservation patterns between chemical substructures and binding site residues and implement them to predict ligand binding sites. For sequence/structure-based approach, we will develop computational strategies to predict meta-binding sites and consensus set of ligands combining structure-based ligand binding sites. In addition, these tools will also be used for identification of interaction modes of ligands at the families/sub-family level and will be used to suggest lead compound for drug discovery process. These predictions can be enhanced by incorporating knowledge of protein tertiary structures. Towards this, we will perform protein modeling using fragment assembly approach of Threading ASSembly and Refinement (TASSER) using constraints derived from templates with known structures. We study function and regulation of proteins related to ubiquitin in cellular processes of pre-messenger RNA splicing and signaling. For these studies, we perform experiments in molecular cell biology, genetics, and biochemistry in the budding yeast Saccharomyces cerevisiae and fission yeast Schizosaccharomyces pombe. We use mammalian cell cultures and multi-cellular organisms through collaborations to highlight relevance of our findings in humans.\n",
      "\n",
      "Ubiquitin and ubiquitin-like modifiers, including Hub1, SUMO, NEDD8, Sde2, are a family of small proteins harboring ubiquitin fold. They function as central regulators for a large number of processes in the cell. The covalent attachment of ubiquitin to target proteins by the process known as ubiquitination requires a set of dedicated enzymes. Ubiquitination is the key for determining fate of target proteins through degradation in the proteasome. This process also diversifies functions of the targets by modulating their properties in non-proteolytic ways. Other ubiquitin-like modifiers also attach to their targets for regulatory activities, both covalently and non-covalently. Ubiquitin-like modifiers thereby act as molecular switches in processes such as DNA repair, signal transduction, protein sorting etc.\n",
      "\n",
      "The ubiquitin-like proteins Hub1 and Sde2 promote efficient excision of a subset of introns. They bind to targets only non-covalently and function in pre-mRNA splicing in unique ways. Hub1-modified spliceosomes are able to recognize suboptimal introns and promote alternative splicing. Whereas Hub1 is conserved from budding yeast to humans, the ubiquitin-fold-harboring Sde2 protein is found only in intron-rich eukaryotes, from fission yeast to humans. After removal of its ubiquitin fold by specific deubiquitinating enzymes, Sde2 gets incorporated into the spliceosome for intron-specific splicing. Thus, both Hub1 and Sde2 appear to relax spliceosomes’ fidelity on a subset of pre-mRNAs.\n",
      "\n",
      "The hallmarks of many diseases in humans, including cancer, are the defects in heterochromatin silencing and genome stability. Our findings reveal that the process of intron-specific pre-mRNA splicing induced by ubiquitin-like proteins is critical for heterochromatin silencing and genome stability. My research interests lie primarily in differential geometry and geometric analysis. In particular, I am interested in studying Riemannian functionals, geometric flows and their applications in geometry and topology. I have studied rigidity, stability and local minimizing properties of L^p norm of Riemannian curvature tensor at symmetric spaces. Recently I am interested in topology of non-compact manifolds admitting a complete metric with positive scalar curvature. Our research activities focus on exploring the physico-chemical signals for metal (Au, Cu, W, Sn etc.) fertility through various stages of granite evolution, and to tie-up these records with crustal evolution. The main thrust is on addressing the factors that promote metal endowment through the course of melt extraction, its evolution and subsequent hydrothermal degassing of magma. We commonly employ techniques such as, but not limited to, petrological phase equilibria modelling, mineral chemical analysis, fluid inclusion heating-freezing experiments and stable isotope measurements. Since centuries, chemistry as a subject is mainly focused on the challenges of making, purifying and studying compounds. However, for the chemists, still there remains a large void in terms of understanding and mimicking the chemistry of autonomous functioning of cell and eventually life. This led to develop a new branch of chemistry named systems chemistry where the challenges are to create a synthetic organism (de novo form of life) both for better understanding the inner functioning of biology and also to create engineered life forms. In this context it is worthy to mention that one of the fundamental feature of life is that it operates out-of-equilibrium and it needs constant influx of energy to remain in a dynamic state. To this end, the prime aim of our research direction will be to find the fundamentals of emerging behavior in dynamic self-assembly processes. At the same time the design of energy dependent, life-inspired catalytic chemical systems that can potentially contribute towards sustainable chemical engineering and healthcare technology will be investigated. Overall, the research area will be multidisciplinary, encompassing the area of (bio)organic chemistry, colloidal chemistry, nanotechnology and flow chemistry. Thus our prime research activities will be the following- \n",
      "i) Dynamic self-assembly, nano/microscale motion and evolution: It is hypothesized that life first started on the planet Earth as a unicellular body almost 3.5-4 billion years ago. Then with time it gains complexity and starts assembling to the formation of colonial organisms like microbes and gradually to more complex multicellular body with reproductive property. Herein, we will investigate the migratory and assembly behavior of different biomolecules containing nano(micro)scale materials and how it should affect the growth and replication of the overall system. \n",
      "ii) Multivalent colloidal systems for (bio)sensing and (bio)catalysis: The aim of this research direction will be to judiciously develop nano-structures which can detect disease-specific proteins/enzymes in straightforward and non-invasive way. On the other hand, this project will demonstrate the utility of dynamic combinatorial chemistry (DCC) for the development of systems with the size and complexity of proteins which are also disease specific. This will constitute a major step forward for this technology, which has so far been limited to molecular systems of relatively low complexity and structural variety. Additionally, these nanostructures will be used for task-specific enzymatic catalysis as well as to delineate the role of catalytic property of nucleic acid structures with an aim of designing ‘synthetic ribosome’. Control, Synchronization, Complex Networks, Pattern Formation & Self Organization in Complex Systems, Applications of Chaos to Computation, Logical Stochastic Resonance Mitochondrial biology is a fast growing area in genetics and medicine, linking cell biological processes to metabolic disorders and cancer. The mitochondrion is not only the hub for energy generation; it is also a major site for other biosynthetic activities. Recent studies have demonstrated that mitochondria integrate diverse extra and intra cellular signals to regulate several cellular functions. We are interested in understanding the role of the mitochondrion in controlling cell biological processes like proliferation, growth and differentiation. We use the model organism, Drosophila melanogaster, for genetic dissection of retrograde signaling pathways from mitochondria to nucleus that are essential in modulating cellular responses. Our laboratory has a large collection of mutations in genes that code for mitochondrial proteins in Drosophila. Taking advantage of the advanced genetic tools available in this model system and using high-end microscopy and molecular genetic approaches we aim to unravel the mechanistic basis of mitochondrial regulation of cellular functions.The other focus of our research involves embryonic stem cells. Embryonic stem cells, by virtue of their capacity to proliferate indefinitely and to differentiate into almost all types of somatic cells, hold the potential to be used for therapeutic purposes. Current research in this field aims to a) develop means to direct embryonic stem cells to differentiate into specific cell types that can be used for therapy and (b) to reprogram adult somatic cells to form induced pluripotent stem (IPS) cells. In this pursuit scientists are trying to understand the genetic regulations and modifications in the genome that contribute to the processes of reprogramming and differentiation. Although it is equally important to understand how these processes are affected by the cellular metabolic state, very limited studies address this issue. We aim to understand the mitochondrial control of proliferation and early lineage specification of ESCs. To achieve this goal we employ a combination of microscopic, histological, biochemical, genetic and molecular biology approaches. My broader research objectives are in utilizing the concepts of physical organic chemistry towards design, development and studies on reactive species, photoswitchable (functional) materials and drug candidates. A lot of emphasis will be given on basic research, particularly in the areas of synthetic organic chemistry, spectroscopy and photochemistry.Matrix isolation infrared spectroscopy:One of my major areas of interest is to understand the structure, stability and reactivity of radicals and highly reactive species. In this regard, I utilize an experimental technique called matrix isolation infrared/UV spectroscopy. At very low temperatures (4 K),gases like argon, neon and nitrogen form transparent matrices in the UV and IR regions. By controlling the dilution in such gases, molecules can indeed be isolated and trapped. If the molecules of interest are prepared with photo-labile groups, transient and unstable species can be generated in matrix isolation conditions through photolysis. Alternatively, a precursor molecule with thermo-labile group can be sublimed through a hot quartz tube at very high temperature and high vacuum so as to generate transient species. The kinetically stable products can be trapped in argon or nitrogen matrices at low temperature. Further photochemistry of such transient products can also be followed to get information about their reactivity. A detailed infrared/UV spectroscopic investigation will be performed along with computational studies in order to understand the structural information and mechanistic pathways. Studies on heterocyclic transient species, photosensitized transients and developing model systems for radical damage are part of this investigation.Photoswitchable functional materials: Azobenzenes are robust switchable molecules with varying switching kinetics depending on the substitutions. Manipulation in the switching rate and functions can be made by changing the substitution. My research interest in this regard will be to connect multiple azobenzene moieties to a linker molecule in creating a light controlled void or confined space that can be useful for a small molecule transporter. Systematic design, synthesis, photochemistry and spectroscopic studies with respect to switching and transporting behaviour will be the major components of this project.Drug candidates for the anti-infective therapeutic area: Antibacterial agents are one of the important drug categories that provide immense value to the health and remedy for many otherwise widely transmittable diseases. Despite their success, bacteria always try to stay one step ahead by developing resistance and transferring it. As a result, finding new ways for combating the bacterial growth through inhibiting/stopping their cellular functions is very important. Bacterial fatty acid biosynthesis (FAB) blocking agents are one of the emerging areas in this regard. Systematic design, library synthesis with different scaffolds and biological studies on various pathogens will be part of this project. One of our research interests involves bio-mimetic synthetic structural and functional model study of metalloenzymes. In this context, we focus on understanding the role of microenvironment in enzymatic processes. Characterization of short-lived intermediates relevant to enzymatic processes is an important part of our research. With combined structural, spectroscopic, and kinetic studies we try to understand structure-function relationship for bio-mimetic processes. \n",
      "We are also interested in exploring catalytic processes involving organic transformation, and small molecule activation like reduction of proton, carbon dioxide etc. Further, we pay our attention in understanding reaction mechanism and thermodynamic driving force for catalytic processes. Our research aims to advance the understanding of Electromicrobiology, a new sub-discipline of Environmental Microbiology, and contribute to developing sustainable biotechnologies for valorizing liquid and gaseous wastes. To this end, we investigate extracellular electron transfer-based respiratory and metabolic processes of anaerobic microorganisms in bioelectrochemical systems and microcosms. Besides anaerobic microbiology and electrochemistry approaches, we use tools and techniques from environmental sciences, bioengineering, metagenomics, microscopy, and analytical chemistry disciplines for this purpose.\n",
      "The focus of our current research activities is on\n",
      "\n",
      "understanding extracellular electron transfer-based anaerobic metabolisms and microorganisms from extreme environments.\n",
      "developing integrated microbial electrochemical technologies for renewable electricity-driven bioproduction of chemicals from industrial CO2 and wastewater management at the point sources. I am interested in the structure and representations of the Kac-Moody Lie algebras.  Our Nanomaterials and Energy Group is an interdisciplinary research group inspired by the opportunities arising from a confluence of global trends in energy research and environmental challenges leading to fast growing scientific breakthroughs and market opportunities. Our research works focus on developing functional nanomaterials and their applications in energy harvesting and environmental remediation. Such work require involving in photocatalysis, electrocatalysis, in-situ investigations of reaction kinetics, excitons dynamics, X-ray diffraction based structural analysis, surface characterization techniques and high resolution structural analysis using electron and atomic force microscope.Nanostructures in energy harvesting: In view of the increasing energy crisis (caused by rapid depletion of fossil fuels), abundance makes solar energy an extremely promising energy alternative leading to intense research activities in solar cells, hydrogen energy and artificial photosynthesis. Our group is interested in developing chemical routes for highly monodisperse, shape controlled nanocrystalline semiconducting and metallic catalytic materials that can either (a) split water with the help of sun-light to obtain hydrogen that stores solar energy in the form of chemical energy or conversely, (b) reduce oxygen efficiently enabling it to form oxide ion and hence combine easily with hydrogen even at room temperature, leading to the release of stored solar energy on demand. Importantly in this energy strategy, water is generated as the only reaction byproduct, which is environmentally benign. (c) Based on similar principles, we further examine the oxidation of small bio-fuel molecules such as alcohols on nanocatalyst surfaces. Finally, we wish find a cost-effective method to produce fuels using only sunlight, water, and carbon dioxide as inputs.Weak interaction based self-assembly and shape control: In the emerging field of organic and carbon based semiconductors, fullerenes are unique for their excellent electron accepting nature. They exhibit the ability of solvate formation, imparting fascinating properties such as high electron mobility and enhanced luminescence. As a second research interest, we work towards understanding the chemical interactions involved in such solvates and effects on their electronic properties. Another purpose of research on this area is to study the shape control of self-assembled fullerenes with an intention to address some of the very fundamental issues related to shape control and nucleation. I am currently investigating the history of progressive writers movement in south India and the intellectual history of left in Tamilnadu. Though at all India level the progressive writers association was formed back in late 1930s there are striking regional variations whose history is yet to be written. The left cultural intervention in Tamilnadu predate the formation of progressive writers association in the state but the latter marks a significant departure for the history of left that has contested both the dominant Dravidian ideology/politics and Hindu nationalism. This may not have electoral ramification for the left but leave a deep impact on civil society activism and secularization of Tamil society.My doctoral dissertation dealt with the history of (re)constitution of Tamil literary classics - Sangam literature - during the nineteenth and early twentieth century colonial Madras. The historical method involved not just reading and interpreting the editions of classics published in the colonial period but a range of sources from private correspondence of editors of classics, biographies and autobiographies of Tamil scholars, colonial records, writings of missionary-orientalists, newspapers and vernacular journals. A revised version of the dissertation is published by Cambridge University Press India. My current research interests are in the areas of computational differential algebra, differential Galois theory and symbolic integration. In the 1970's and 1980's, several mathematicians (J. Ax, M. Bronstein, M. Rosenlicht, R. Risch, M. Singer) used techniques in differential algebra to study the structure of elementary field extensions and Liouvillian field extensions. The main goals are to study the problem of integration in finite terms and to understand certain number theoretic conjectures such as the Schanuel's conjecture.A major branch of differential algebra is the Galois theory of linear differential equations. Just as classical Galois theory addresses polynomial equations, differential Galois theory addresses linear homogeneous differential equations. The Galois groups that arise in this context happen to be linear algebraic groups. There is also a Galois correspondence in this context that works similarly to the Galois theory of polynomial equations. The nature of the solutions of a differential equation can be analyzed by studying the differential Galois group. For instance, all the solutions of a linear homogeneous differential equation are Liouvillian, that is, the solutions can be algebraically expressed by a combination of arbitrary antiderivatives, exponentials and algebraic elements if and only if the identity component of the differential Galois group is solvable. One can also apply differential Galois theory to determine whether or not an elementary function has an elementary integral. Presently I have been interested in the theory of motives a la Grothendieck and a la Voevodsky. I have been particularly interested in those motives that are natural in the study of Shimura varieties, but many of my constructions are applicable to arbitrary varieties. My work includes construction of specific weight truncations in the motivic categories, and in turn has consequences for Shimura varieties. I have also proposed new ways to glue t -structures and weight structures which has broader applications. The research interest of 2i-LabBacterial evolution and the associated consequences\n",
      "The lab is interested in exploring the Salmonella infection mediated pathogenies and associated immunological outcomes. Salmonella enterica serovar Typhimurium is a Gram-negative bacterium that infects many hosts, including amoeba, invertebrates, humans, and plants. S. Typhi is a human-specific serovar causing typhoid fever. In the 2i-lab, we examine how Salmonella infection can benefit the bug by adapting to the host environment. These evolutionary adaptations can help bacteria, and what mechanism makes the evolved bacteria more pathogenic than their non-adaptive counterparts. I am interested in further extrapolating the study to target using various other pathogens, including Listeria monocytogens, and Pseudomonas aeruginosa, responsible for causing significant mortality and morbidity. \n",
      "Bacterial evolution and the associated consequences\n",
      "Also, I am interested in looking for the impact of Salmonella infection on obesity/diabetes and how bacterial infection can increase obesity and diabetes incidences using the worm Caenorhabditis elegans (C. elegans) model. Obesity and diabetes further increase the risk of various infections like Streptococcus infection etc., among the patient. Few reports describe the contrasting scenarios where microbe can lead to host obesity, especially viruses and the altered gut microbiota giving rise to the new field of infectobesity. The C. elegans is a well-established model system used for host-pathogen interaction, including Salmonella, Pseudomonas, immune response and immune signalling, obesity and diabetes. This global obesity and diabetes scenario led me to think about Salmonella infection mediated obesity and its association with diabetes using C. elegans as a model.\n",
      "Infection mediated developmental defects using the C. elegans model\n",
      "Also, the current work going on in the lab is about studying the developmental defects due to Salmonella infection by using C. elegans as a model system. What severity of the defect Salmonella can cause, as this pathogen is known to infect pregnant women and neonates and lead to preterm birth or even foetal loss. We found that infection has a significant impact on the development of the worm in terms of egg morphology, hatching behaviour, different larval stage development, and even adulthood and gonadogenesis. We are looking out the mechanism of how Salmonella infection can cause these defects.  Salmonella infection is also able to cause the Dauer formation in the worm. We have found that the Salmonella infection can cause the dauer formation in C. elegans, and the phenotype persists up to the 5th generation. Still, beyond that, the worm has adopted itself to eat the Salmonella as their regular food, and no more are responding against the pathogens. Current Research focus:Research is pursued in four broad inter related areas of environmental science, namely\n",
      "Ozone formation chemistrySources, sinks and transformation of ambient VOCs, GHGs and AmmoniaAmbient Air Quality of Mega Cities ,Biomass Burning and Biogenic emissionsDevelopment and validation of low cost air samplers and OH reactivity instruments\n",
      "The main experimental techniques used by the group are:Proton transfer reaction mass spectrometry (PTR-MS)Optical spectroscopic methods (UV, Chemiluminescence & IR)Gas chromatography\n",
      "Research objective:\n",
      "10,000 to 100,000 different organic compounds have been measured in the Earth's atmosphere (total emission estimate ˜ 1.3 billion tonnes of carbon). In combination with NOx and sunlight these emissions fuel the formation of tropospheric ozone which is a major health and agricultural hazard when present at high levels.Chemical conversion by the \"detergent\" of the atmosphere, namely the OH radical converts emissions into more easily removable secondary products (e.g. Secondary organic aerosol (SOA) and oxygenated VOCs), which also significantly influence the chemical composition of the atmosphere, in turn affecting the radiative balance (climate), activity of cloud condensation nuclei (CCN) and atmospheric dynamics with widespread health and climate impacts. Our group investigates these chemical processes in order to develop basic scientific understanding required for assessing pollution impacts and proposing mitigation strategies and policies. \n",
      "\n",
      "\n",
      "\n",
      "\n",
      " \n",
      "Awards and Recognitions\n",
      "Dr. Vinayak Sinha received the NASI-SCOPUS 2016 award for excellence in research. He is an SSC member of the International Commission on Global Atmospheric Chemistry and Air Pollution (iCACGP) since 2019 and co-chair of the SSC of the Integrated Land Ecosystem-Atmosphere Processes Study Global Research Project under Future Earth since 2017. He is interested in understanding the asymmetry of matter in the universe, how matter is made and doing precision tests of the Standard Model  (SM) in order to search for the new physics. Currently, he is involved in the Belle and Belle II experiment situated at KEK (Tsukuba, Japan).  My research involves the discovery, synthesis, and single crystal growth of new and/or improved strongly correlated materials with potentially novel electronic, magnetic and thermal properties.These materials and behaviors include (i) Heavy Fermion, mixed valent and Kondo lattice compounds, (ii) Quantum spin systems, (iii) Frustrated/ low-dimensional magnets, (iv) Conventional and unconventional superconductors, and (v) Charge density wave materials. Characterization of these materials using x-ray diffraction, magnetization, magnetic susceptibility, specific heat, electronic transport, thermal analysis and high pressure measurements, is then undertaken to understand, e.g., the electronic structure and magnetic properties of new superconductors and strongly correlated insulators and metals, and structure property relationship in these materials.My current interest is in (i) magnetically low-dimensional and frustrated transition metal oxides which have the potential of showing new quantum ground states, (ii) novel ground states in 5d transition metal oxides arising from an interplay between electronic correlations, spin-orbit coupling, and lattice topology, (iii) new kinds of quantum phase transitions in proximity to charge density waves, and (iv) the study of strongly correlated materials in reduced geometries like thin films and/or nano-particle form. . Specialized in geomorphology, remote sensing, machine learning and geographic information systems to analyze natural hazards, particularly rainfall induced landslides and post-seismic landslide controls, as well as understanding cascading geological hazards in glacial, river, and coastal settings from local to regional and global scales. Our group is also interested in understanding the sediment and nutrient dynamics in surface water, lake water, and ocean interfaces, employing latest tools and models.Currently there is a significant gap in appropriate landslide early warning setup in Indian scenario and there is a necessity for developing accurate rainfall I-D thresholds for landslide initiation condition in different geo-environments. There is also a lack of understanding in glacial retreat caused fluvial changes and hillslope processes in the High Mountain Asia. We aims to study the aforementioned issues in detail, and minimize the impact of natural disasters by setting up an integrated framework for hazard mitigation planning.\n"
     ]
    }
   ],
   "source": [
    "string = loaded_data['experience_string']\n",
    "type(string)\n",
    "print(string)"
   ]
  }
 ],
 "metadata": {
  "kernelspec": {
   "display_name": "Python 3",
   "language": "python",
   "name": "python3"
  },
  "language_info": {
   "codemirror_mode": {
    "name": "ipython",
    "version": 3
   },
   "file_extension": ".py",
   "mimetype": "text/x-python",
   "name": "python",
   "nbconvert_exporter": "python",
   "pygments_lexer": "ipython3",
   "version": "3.10.12"
  },
  "orig_nbformat": 4
 },
 "nbformat": 4,
 "nbformat_minor": 2
}
